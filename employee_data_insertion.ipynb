{
 "cells": [
  {
   "cell_type": "code",
   "execution_count": 167,
   "id": "5998c0e0-f788-478f-a0b5-59666ec34d16",
   "metadata": {},
   "outputs": [],
   "source": [
    "# ## Step 1: Read Employee Data from CSV\n",
    "# This cell loads the dataset using pandas and previews the first few rows."
   ]
  },
  {
   "cell_type": "code",
   "execution_count": null,
   "id": "2d66a020-a523-41f5-89fc-8ee0c2fd84c9",
   "metadata": {},
   "outputs": [],
   "source": [
    "!pip install pandas mysql-connector-python"
   ]
  },
  {
   "cell_type": "code",
   "execution_count": 129,
   "id": "21e3ab1f-7299-4a64-83ee-4ce1babc86c0",
   "metadata": {},
   "outputs": [],
   "source": [
    "# Step2 : import libraries\n",
    "import pandas as pd\n",
    "import mysql.connector\n",
    "from mysql.connector import Error"
   ]
  },
  {
   "cell_type": "code",
   "execution_count": null,
   "id": "cf0f8378-c067-48d5-8f58-040000841924",
   "metadata": {},
   "outputs": [],
   "source": [
    "#step3 load the csv file\n",
    "df = pd.read_csv('data/employees.csv')\n",
    "df.head()"
   ]
  },
  {
   "cell_type": "code",
   "execution_count": null,
   "id": "617b660f-d5d2-4806-b344-bb241ab387c9",
   "metadata": {},
   "outputs": [],
   "source": [
    "#step 4 Connect to mysql database\n",
    "try: \n",
    "    connection = mysql.connector.connect(\n",
    "        host = \"localhost\",\n",
    "        user = \"your_ussername\",\n",
    "        password = \"your_password\",\n",
    "        database = \"employee_db\"\n",
    "    )\n",
    "    cursor = connection.cursor()\n",
    "    print(\"✅ Connected to MySQL\")\n",
    "\n",
    "except Error as e:\n",
    "    print(\"❌ Error:\", e)"
   ]
  },
  {
   "cell_type": "code",
   "execution_count": null,
   "id": "5e116e38-11b8-4e42-84ac-a8f658cf81db",
   "metadata": {},
   "outputs": [],
   "source": [
    "print(df.columns.tolist())"
   ]
  },
  {
   "cell_type": "code",
   "execution_count": null,
   "id": "9b7b5b17-8736-41ca-bc8c-5dd1035cbe53",
   "metadata": {},
   "outputs": [],
   "source": [
    "#step5 : Convert to datetime and format as YYYY-MM-DD\n",
    "df['hire_date'] = pd.to_datetime(df['hire_date'], dayfirst=True).dt.strftime('%Y-%m-%d')\n",
    "\n",
    "#step6: insert data from dataframe to sql table\n",
    "\n",
    "for _, row in df.iterrows():\n",
    "    sql = \"\"\"\n",
    "    INSERT INTO employees (\n",
    "    emp_id, first_name, last_name, departments, positions, salary, hire_date, gender, email, phone\n",
    "    ) Values (%s, %s, %s, %s, %s, %s, %s, %s, %s, %s) \n",
    "    \"\"\"\n",
    "    data = (\n",
    "        int(row['emp_id']),\n",
    "        (row['first_name']),\n",
    "        (row['last_name']),\n",
    "        (row['departments']),\n",
    "        (row['positions']),\n",
    "        float(row['salary']),\n",
    "        (row['hire_date']),\n",
    "        (row['gender']),\n",
    "        (row['email']),\n",
    "        (row['phone']),\n",
    "        )\n",
    "    cursor.execute(sql, data)\n",
    "     \n",
    "    \n",
    "connection.commit()\n",
    "print(\"✅ All data inserted!\")\n",
    "        "
   ]
  },
  {
   "cell_type": "code",
   "execution_count": null,
   "id": "22449eb2-2b91-4169-9e90-9d7adefe5a0a",
   "metadata": {},
   "outputs": [],
   "source": [
    "#step7 Commit and close the connetion\n",
    "\n",
    "cursor.close()\n",
    "connection.close()\n",
    "print(\"connection closed\")"
   ]
  },
  {
   "cell_type": "code",
   "execution_count": null,
   "id": "d413f0dd-2f01-40ca-bcd1-c2e4b92ecb35",
   "metadata": {},
   "outputs": [],
   "source": []
  }
 ],
 "metadata": {
  "kernelspec": {
   "display_name": "Python [conda env:base] *",
   "language": "python",
   "name": "conda-base-py"
  },
  "language_info": {
   "codemirror_mode": {
    "name": "ipython",
    "version": 3
   },
   "file_extension": ".py",
   "mimetype": "text/x-python",
   "name": "python",
   "nbconvert_exporter": "python",
   "pygments_lexer": "ipython3",
   "version": "3.12.7"
  }
 },
 "nbformat": 4,
 "nbformat_minor": 5
}
