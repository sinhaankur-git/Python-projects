{
 "cells": [
  {
   "cell_type": "markdown",
   "id": "705ace7e-20dd-43b3-8f6c-87bb3d2883b8",
   "metadata": {},
   "source": [
    "# Ecommerce Sales & Orders Data Pipeline System\n",
    "\n",
    " This project simulates a real-world data pipeline for an ecommerce platform. It uses Python and MySQL to ingest, clean, transform, and analyze data from a CSV source file. The focus is on showcasing SQL integration, data processing, and business intelligence using Python and SQL."
   ]
  },
  {
   "cell_type": "markdown",
   "id": "34cb182b-6f02-4213-83ef-93a5680fff2c",
   "metadata": {},
   "source": [
    "#    Database Schema\n",
    "\n",
    "The system contains the following tables:\n",
    "\n",
    "- customers\n",
    "- products\n",
    "- orders\n",
    "- order_items\n",
    "- payments\n",
    "  \n",
    "(SQL schema executed externally using MySQL Workbench. Schema and view definitions are available in separate .sql files.)"
   ]
  },
  {
   "cell_type": "markdown",
   "id": "c75a2907-b05f-4387-ab1f-366a422a13d1",
   "metadata": {},
   "source": [
    "## Data Ingestion"
   ]
  },
  {
   "cell_type": "code",
   "execution_count": null,
   "id": "624c5ef0-74e1-4984-916f-37076fcdea2f",
   "metadata": {},
   "outputs": [],
   "source": [
    "import pandas as pd\n",
    "import mysql.connector\n",
    "from mysql.connector import connect\n",
    "\n",
    "\n",
    "df = pd.read_csv(\"./data/ecom-sales-data1.csv\")\n",
    "df.head()"
   ]
  },
  {
   "cell_type": "markdown",
   "id": "23374992-a07d-4043-a48c-47ff2302a914",
   "metadata": {},
   "source": [
    "## Data Cleaning"
   ]
  },
  {
   "cell_type": "code",
   "execution_count": null,
   "id": "4f5e830e-1699-40ce-9e92-1ccfe1bfff5d",
   "metadata": {},
   "outputs": [],
   "source": [
    "df.columns = df.columns.str.strip().str.lower()\n",
    "\n",
    "df['unit_price'] = df['unit_price'].replace(r'[\\$,]', '', regex=True).astype(float)\n",
    "df['total_price'] = df['unit_price'].replace(r'[\\$,]','', regex= True).astype(float)\n",
    "\n",
    "date_columns = ['order_date', 'registered_date']\n",
    "for col in date_columns:\n",
    "    df[col]= pd.to_datetime(df[col],format = 'mixed')"
   ]
  },
  {
   "cell_type": "code",
   "execution_count": null,
   "id": "166c1804-a59f-440c-b7a1-8991df29266b",
   "metadata": {},
   "outputs": [],
   "source": [
    "#drop duplicates\n",
    "\n",
    "df.drop_duplicates(inplace= True)\n",
    "\n",
    "#reset index\n",
    "\n",
    "df.reset_index(drop= True, inplace= True)\n",
    "\n",
    "# split the cleaned dataframe into tabe \n",
    "#remove duplicates in each table-specific view\n",
    "\n",
    "#customer table\n",
    "customers_df= df[['customer_id', 'customer_name', 'email', 'country', 'registered_date']].drop_duplicates() \n",
    "\n",
    "#prducts table\n",
    "products_df= df[['product_id', 'product_name', 'category', 'unit_price', 'quantity']].drop_duplicates()\n",
    "\n",
    "#orders table\n",
    "orders_df= df[['order_id', 'customer_id', 'order_date', 'total_price', 'status']].drop_duplicates()\n",
    "\n",
    "#order_items table\n",
    "order_items_df= df[['item_id', 'order_id', 'product_id', 'quantity', 'unit_price']].drop_duplicates()\n",
    "\n",
    "#payments table\n",
    "payments_df= df[['payment_id', 'order_id', 'customer_id', 'payment_method', 'total_price']].drop_duplicates()"
   ]
  },
  {
   "cell_type": "markdown",
   "id": "52df253d-adb1-4be7-acd6-22b23f284564",
   "metadata": {},
   "source": [
    "## SQL Database Connection & Table creation"
   ]
  },
  {
   "cell_type": "code",
   "execution_count": null,
   "id": "e4738542-231b-47fd-9d24-644fbac61f96",
   "metadata": {},
   "outputs": [],
   "source": [
    "#Insert data into MYSQL database\n",
    "\n",
    "try: \n",
    "    connection = mysql.connector.connect(\n",
    "        host = \"localhost\",\n",
    "        user = \"your_username\",\n",
    "        password = \"your_password\",\n",
    "        database = \"sales_orders_db\"\n",
    "    )\n",
    "    cursor = connection.cursor()\n",
    "    print(\"Connected to SQL\")\n",
    "except Error as e:\n",
    "    print(\"Error:\", e)"
   ]
  },
  {
   "cell_type": "markdown",
   "id": "39cd31cd-171f-4cc4-b3d1-4abaa41216c9",
   "metadata": {},
   "source": [
    "## Insert Clean data to MYSQL"
   ]
  },
  {
   "cell_type": "code",
   "execution_count": null,
   "id": "526badd9-8962-4113-a2d2-0b722bd84973",
   "metadata": {},
   "outputs": [],
   "source": [
    "#insert data from dataframe to sql table:\n",
    "\n",
    "for _, row in df.iterrows():\n",
    "    #insert into customers\n",
    "        \n",
    "    sql = \"\"\"\n",
    "    INSERT IGNORE INTO customers (\n",
    "    customer_id, customer_name, email, registered_date, country)\n",
    "    Values(%s, %s, %s, %s, %s)\n",
    "    \"\"\"\n",
    "    data = (\n",
    "        (row['customer_id']),\n",
    "        (row['customer_name']),\n",
    "        (row['email']),\n",
    "        (row['registered_date']),\n",
    "        (row['country'])\n",
    "    )\n",
    "\n",
    "    cursor.execute(sql, data)\n",
    "\n",
    "    #insert into products\n",
    "    \n",
    "    sql = \"\"\" \n",
    "    INSERT IGNORE INTO products (\n",
    "    product_id, product_name, category, quantity, unit_price)\n",
    "    Values(%s, %s, %s, %s, %s)\n",
    "    \"\"\"\n",
    "    data = (\n",
    "        (row['product_id']),\n",
    "        (row['product_name']),\n",
    "        (row['category']),\n",
    "        int(row['quantity']),\n",
    "        float(row['unit_price'])\n",
    "    )\n",
    "    \n",
    "    cursor.execute(sql, data)\n",
    "\n",
    "    #insert into orders\n",
    "    \n",
    "    sql =\"\"\"\n",
    "    INSERT IGNORE INTO orders (\n",
    "    order_id, customer_id, order_date, total_price, status)\n",
    "    Values(%s, %s, %s, %s, %s)\n",
    "    \"\"\"\n",
    "    data = (\n",
    "        (row['order_id']),\n",
    "        (row['customer_id']),\n",
    "         (row['order_date']),\n",
    "        float(row['total_price']),\n",
    "        (row['status'])\n",
    "    )\n",
    "\n",
    "    cursor.execute(sql, data) \n",
    "\n",
    "    #insert into order_item\n",
    "    \n",
    "    sql =\"\"\"\n",
    "    INSERT IGNORE INTO order_items (\n",
    "    item_id, order_id, product_id, quantity, unit_price)\n",
    "    Values(%s, %s, %s, %s, %s)\n",
    "    \"\"\"\n",
    "    data = (\n",
    "        (row['item_id']),\n",
    "        (row['order_id']),\n",
    "        (row['product_id']),\n",
    "        int(row['quantity']),\n",
    "        float(row['unit_price'])\n",
    "    )\n",
    "   \n",
    "    cursor.execute(sql, data)\n",
    "\n",
    "    #insert into payments\n",
    "    \n",
    "    sql =\"\"\"\n",
    "     INSERT IGNORE INTO payments(\n",
    "    payment_id, order_id, customer_id, payment_method, total_price)\n",
    "    Values(%s, %s, %s, %s, %s)\n",
    "    \"\"\"\n",
    "    data = (\n",
    "        (row['payment_id']),\n",
    "        (row['order_id']),\n",
    "        (row['customer_id']),\n",
    "        (row['payment_method']),\n",
    "        float(row['total_price']),\n",
    "        )\n",
    "    \n",
    "    cursor.execute(sql, data)\n",
    "\n",
    "connection.commit()\n",
    "print(\"All data inserted!\")"
   ]
  },
  {
   "cell_type": "markdown",
   "id": "d64a59c0-d558-49b0-99b1-aa0afd3fe043",
   "metadata": {},
   "source": [
    "## SQL Queries for Analysis"
   ]
  },
  {
   "cell_type": "code",
   "execution_count": null,
   "id": "5aead494-4df7-4fcb-9e3e-cc06041017d3",
   "metadata": {},
   "outputs": [],
   "source": [
    "import matplotlib\n",
    "from matplotlib import pyplot as plt\n",
    "import seaborn as sns\n",
    "import pandas as pd\n",
    "import mysql.connector\n",
    "from mysql.connector import connect\n",
    "import sqlalchemy\n",
    "from sqlalchemy import create_engine"
   ]
  },
  {
   "cell_type": "code",
   "execution_count": null,
   "id": "378738bd-a323-4e5d-b367-ce3f39011a9d",
   "metadata": {},
   "outputs": [],
   "source": [
    "query1 = \"\"\" \n",
    "select\n",
    "\to.order_id,\n",
    "    c.customer_name,\n",
    "    o.order_date,\n",
    "    o.total_price\n",
    "from orders o\n",
    "join customers c on o.customer_id = c.customer_id\n",
    "left join payments p on o.order_id = p.order_id\n",
    "where p.payment_id is null;\n",
    "\"\"\"\n",
    "df_unpaid = pd.read_sql(query1, connection)\n",
    "df_unpaid.head()"
   ]
  },
  {
   "cell_type": "markdown",
   "id": "8e1f1fdc-54d8-4c38-945b-2087c7b57073",
   "metadata": {},
   "source": [
    "## Insight and Visualizations"
   ]
  },
  {
   "cell_type": "code",
   "execution_count": null,
   "id": "391a8602-6285-498b-a2af-d171a3d58a7c",
   "metadata": {},
   "outputs": [],
   "source": [
    "query = \"\"\" \n",
    "select\n",
    "\tc.customer_name,\n",
    "    sum(o.total_price) as total_spent\n",
    "from customers c\n",
    "join orders o on c.customer_id = o.customer_id\n",
    "group by c.customer_name\n",
    "order by total_spent desc\n",
    "limit 5 ;\n",
    "\"\"\"\n",
    "df_top_customers = pd.read_sql(query, connection)\n",
    "\n",
    "\n",
    "sns.barplot(data=df_top_customers, x= 'total_spent', y = 'customer_name')\n",
    "plt.title(\"Top 5 Customers by Total Spend\")\n",
    "plt.xlabel(\"Total Spent\")\n",
    "plt.ylabel(\"Customer\")\n",
    "plt.show()"
   ]
  },
  {
   "cell_type": "code",
   "execution_count": null,
   "id": "341278b3-a208-4df0-a8e6-a04f7c17aaca",
   "metadata": {},
   "outputs": [],
   "source": [
    "query = \"\"\" \n",
    "select\n",
    "\tp.product_name,\n",
    "    p.category,\n",
    "\tsum(oi.quantity) as total_sold\n",
    "from\n",
    "\tproducts p\n",
    "join order_items oi on p.product_id = oi.product_id\n",
    "group by p.product_name,p.category\n",
    "order by total_sold desc\n",
    "limit 5;\n",
    "\"\"\"\n",
    "df_best_product = pd.read_sql(query, connection)\n",
    "\n",
    "\n",
    "sns.barplot(data=df_best_product, x= 'total_sold', y = 'product_name')\n",
    "plt.title(\"Top 5 Best Selling Products\")\n",
    "plt.xlabel(\"Unit Sold\")\n",
    "plt.ylabel(\"Products\")\n",
    "plt.show()"
   ]
  },
  {
   "cell_type": "code",
   "execution_count": null,
   "id": "6b4720d5-f8cd-449a-bb36-8e720d7baa5c",
   "metadata": {},
   "outputs": [],
   "source": [
    "query = \"\"\" \n",
    "select\n",
    "\tp.category,\n",
    "    sum(oi.quantity * oi.unit_price ) as total_revenue\n",
    "from products p\n",
    "join order_items oi on p.product_id = oi.product_id\n",
    "group by p.category\n",
    "order by total_revenue desc;\n",
    "\"\"\"\n",
    "df_category_revenue = pd.read_sql(query, connection)\n",
    "\n",
    "\n",
    "sns.barplot(data=df_category_revenue, x= 'category', y = 'total_revenue')\n",
    "plt.title(\"Revenue by Product Category\")\n",
    "plt.xlabel(\"Categories\")\n",
    "plt.ylabel(\"Total Revenue\")\n",
    "plt.xticks(rotation = 30)\n",
    "plt.grid(True)\n",
    "plt.show()"
   ]
  },
  {
   "cell_type": "code",
   "execution_count": null,
   "id": "33c76013-8808-4493-a6a3-68369aec8463",
   "metadata": {},
   "outputs": [],
   "source": [
    "query = \"\"\" \n",
    "select\n",
    "\tdate_format(order_date, '%Y-%m') as month,\n",
    "\tcount(order_id) as total_orders,\n",
    "    sum(total_price) as revenue\n",
    "from orders\n",
    "group by month\n",
    "order by month;\t\n",
    "\"\"\"\n",
    "df_monthly_revenue = pd.read_sql(query, connection)\n",
    "\n",
    "\n",
    "sns.barplot(data=df_monthly_revenue, x= 'month', y = 'revenue')\n",
    "plt.title(\"Monthly Revenue\")\n",
    "plt.xlabel(\"Month\")\n",
    "plt.ylabel(\"Revenue\")\n",
    "plt.xticks(rotation = 75)\n",
    "plt.grid(False)\n",
    "plt.show()"
   ]
  },
  {
   "cell_type": "code",
   "execution_count": null,
   "id": "2c8e10dd-17bf-4df5-a60a-ed92ad2b055c",
   "metadata": {},
   "outputs": [],
   "source": [
    "query = \"\"\" \n",
    "select\n",
    "    c.country,\n",
    "    count(o.order_id) as total_orders,\n",
    "    sum(o.total_price) as total_revenue,\n",
    "    round(avg(o.total_price),2) as avd_order_value\n",
    "from customers c\n",
    "join orders o on c.customer_id = o.customer_id\n",
    "group by c.country\n",
    "order by total_revenue desc;\n",
    "\"\"\"\n",
    "df_order_per_country = pd.read_sql(query, connection)\n",
    "\n",
    "\n",
    "sns.barplot(data=df_order_per_country, x= 'country', y = 'total_orders')\n",
    "plt.title(\"Average Order per Country\")\n",
    "plt.xlabel(\"Countries\")\n",
    "plt.ylabel(\"Total Orders\")\n",
    "plt.xticks(rotation = 75)\n",
    "plt.grid(False)\n",
    "plt.show()"
   ]
  },
  {
   "cell_type": "markdown",
   "id": "6b643b0f-416a-43a7-87b2-33d6a65fe813",
   "metadata": {},
   "source": [
    "## Conclusion\n",
    "\n",
    "This project demonstrates an end-to-end data engineering and analysis workflow using SQL and Python. It includes:\n",
    "- Schema design and table creation in MySQL\n",
    "- Data ingestion and cleaning from a CSV source\n",
    "- Insertion of clean data into SQL\n",
    "- Business-focused queries and visualizations\n",
    "\n",
    "This project can serve as a foundation for building advanced reporting tools, dashboards, or real-time data pipelines."
   ]
  }
 ],
 "metadata": {
  "kernelspec": {
   "display_name": "Python [conda env:base] *",
   "language": "python",
   "name": "conda-base-py"
  },
  "language_info": {
   "codemirror_mode": {
    "name": "ipython",
    "version": 3
   },
   "file_extension": ".py",
   "mimetype": "text/x-python",
   "name": "python",
   "nbconvert_exporter": "python",
   "pygments_lexer": "ipython3",
   "version": "3.12.7"
  }
 },
 "nbformat": 4,
 "nbformat_minor": 5
}
