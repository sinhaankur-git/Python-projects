{
 "cells": [
  {
   "cell_type": "code",
   "execution_count": null,
   "id": "f1ea78f2-d2d6-4307-8e3e-44669b7ed612",
   "metadata": {},
   "outputs": [],
   "source": [
    "import requests\n",
    "import pandas as pd\n",
    "import mysql.connector\n",
    "from mysql.connector import connect\n",
    "from datetime import datetime"
   ]
  },
  {
   "cell_type": "code",
   "execution_count": null,
   "id": "46f34b42-a650-4830-8e56-bea667c4e288",
   "metadata": {},
   "outputs": [],
   "source": [
    "#Set the github username\n",
    "\n",
    "username = \"microsoft\"    #it can be change to any user/org"
   ]
  },
  {
   "cell_type": "code",
   "execution_count": null,
   "id": "d0af5da5-9430-426d-a140-4acb384b8947",
   "metadata": {},
   "outputs": [],
   "source": [
    "#Github API URL to get repos\n",
    "url = f'https://api.github.com/users/{username}/repos'"
   ]
  },
  {
   "cell_type": "code",
   "execution_count": null,
   "id": "b522ca9f-2f6d-43b5-ae17-07803d50a1ac",
   "metadata": {},
   "outputs": [],
   "source": [
    "# Extract user profile info\n",
    "user_url = f\"https://api.github.com/users/{username}\"\n",
    "user_response = requests.get(user_url)\n",
    "user_data = user_response.json()\n",
    "\n",
    "user_info = {\n",
    "    \"login\" :  user_data.get(\"login\"),\n",
    "    \"name\" :  user_data.get(\"name\"),\n",
    "    \"company\" :  user_data.get(\"company\"),\n",
    "    \"location\" :  user_data.get(\"location\"),\n",
    "    \"followers\" :  user_data.get(\"followers\"),\n",
    "    \"public_repos\" :  user_data.get(\"public_repos\"),\n",
    "    \"created_at\" :  user_data.get(\"created_at\")\n",
    "}\n",
    "\n",
    "print(\"\\n User Profile Info: \")\n",
    "print(user_info)\n"
   ]
  },
  {
   "cell_type": "code",
   "execution_count": null,
   "id": "2220c4d0-19ec-45d3-ab26-b08e387f1f76",
   "metadata": {},
   "outputs": [],
   "source": [
    "#Extract Repos\n",
    "#send request\n",
    "response = requests.get(url)\n",
    "repos = response.json()"
   ]
  },
  {
   "cell_type": "code",
   "execution_count": null,
   "id": "edd81748-75f2-4eeb-960a-cf3aa6a40cd7",
   "metadata": {},
   "outputs": [],
   "source": [
    "#Extract Repositries\n",
    "repo_data = []\n",
    "for repo in repos:\n",
    "    repo_data.append({\n",
    "        \"repo_name\": repo[\"name\"],\n",
    "        \"description\": repo[\"description\"],\n",
    "        \"language\": repo[\"language\"],\n",
    "        \"stars\": repo[\"stargazers_count\"],\n",
    "        \"forks\": repo[\"forks_count\"],\n",
    "        \"updated_at\": repo[\"updated_at\"]\n",
    "    })\n",
    "\n",
    "#convert to Dataframe\n",
    "\n",
    "df_repos = pd.DataFrame(repo_data)\n",
    "print(\"Top Repositories: \")\n",
    "print(df_repos.head())"
   ]
  },
  {
   "cell_type": "markdown",
   "id": "70bbb472-f1a0-4538-8d17-68efdeb2bd72",
   "metadata": {},
   "source": [
    "## Insert Data to Notebook\n"
   ]
  },
  {
   "cell_type": "code",
   "execution_count": null,
   "id": "3d0f676c-2593-480c-aed1-41e29f338d8a",
   "metadata": {},
   "outputs": [],
   "source": [
    "# Connect to mysql\n",
    "\n",
    "try: \n",
    "    conn = mysql.connector.connect(\n",
    "        host = 'localhost',\n",
    "        user = 'root',\n",
    "        password = 'your_password',\n",
    "        database = 'your_database_name'\n",
    "    )\n",
    "    cursor = conn.cursor()\n",
    "    print('Connected to database')\n",
    "except Error as e:\n",
    "    print(f'Connection Error: e')"
   ]
  },
  {
   "cell_type": "code",
   "execution_count": null,
   "id": "10654f0b-c82f-46bc-9214-6effc1778cfe",
   "metadata": {},
   "outputs": [],
   "source": [
    "#Create Table if not exists\n",
    "\n",
    "cursor.execute(\"\"\"\n",
    "create table if not exists github_users(\n",
    "    login varchar(100) primary key,\n",
    "    name varchar(100),\n",
    "    company varchar(100),    \n",
    "    location varchar(100),\n",
    "    followers int,\n",
    "    public_repos int,\n",
    "    created_at datetime\n",
    ")\n",
    "\"\"\")\n",
    "cursor.execute(\"\"\"\n",
    "create table if not exists github_repos(\n",
    "    id int auto_increment primary key,\n",
    "    login varchar(100),\n",
    "    repo_name varchar(100),\n",
    "    description text,\n",
    "    language varchar(100),\n",
    "    stars int,\n",
    "    forks int,\n",
    "    updated_at datetime,\n",
    "    foreign key (login) references github_users(login)\n",
    ")\n",
    "\"\"\")\n",
    "\n",
    "#Insert User Data in the table\n",
    "\n",
    "cursor.execute(\"\"\"\n",
    "    insert ignore into github_users( login, name, company, location, followers, public_repos, created_at)\n",
    "    values(%s, %s, %s, %s, %s, %s, %s)\n",
    "\"\"\",(\n",
    "    user_info[\"login\"],\n",
    "    user_info[\"name\"],\n",
    "    user_info[\"company\"],\n",
    "    user_info[\"location\"],\n",
    "    user_info[\"followers\"],\n",
    "    user_info[\"public_repos\"],\n",
    "    datetime.strptime(user_info[\"created_at\"], \"%Y-%m-%dT%H:%M:%SZ\")\n",
    "))\n",
    "\n",
    "#Adding login column to repos\n",
    "df_repos[\"login\"] = user_info[\"login\"]\n",
    "\n",
    "#Insert Repo Data\n",
    "for _, row in df_repos.iterrows():\n",
    "    cursor.execute(\"\"\"\n",
    "        insert into github_repos(login, repo_name, description, language, stars, forks, updated_at)\n",
    "        values(%s, %s, %s, %s, %s, %s, %s)\n",
    "    \"\"\",(\n",
    "        row[\"login\"],\n",
    "        row[\"repo_name\"],\n",
    "        row[\"description\"],\n",
    "        row[\"language\"],\n",
    "        row[\"stars\"],\n",
    "        row[\"forks\"],\n",
    "        datetime.strptime(row[\"updated_at\"], \"%Y-%m-%dT%H:%M:%SZ\")\n",
    "    ))\n",
    "\n",
    "conn.commit()\n",
    "cursor.close()\n",
    "conn.close()\n",
    "print(\"Github data loaded in MYSQL database.\")"
   ]
  },
  {
   "cell_type": "markdown",
   "id": "79bdaa25-b2ba-411f-933c-355029d5c48e",
   "metadata": {},
   "source": [
    "## SQL Queries and Github Repo Analysis"
   ]
  },
  {
   "cell_type": "code",
   "execution_count": null,
   "id": "01355423-0932-4e47-a295-19655e53d51a",
   "metadata": {},
   "outputs": [],
   "source": [
    "#reconect to database\n",
    "conn = mysql.connector.connect(\n",
    "    host = 'localhost',\n",
    "    user = 'root',\n",
    "    password = 'your_password',\n",
    "    database = 'your_database_name'\n",
    ")\n",
    "cursor = conn.cursor() "
   ]
  },
  {
   "cell_type": "code",
   "execution_count": null,
   "id": "37e621f5-ce5b-4302-b103-5d11967e652d",
   "metadata": {},
   "outputs": [],
   "source": [
    "# 1. Most Starresd Repo\n",
    "\n",
    "df_top_star = pd.read_sql(\"\"\"\n",
    "    Select repo_name, stars\n",
    "    From github_repos\n",
    "    Where login = %s\n",
    "    Order By stars DESC\n",
    "    Limit 1\n",
    "\"\"\",conn, params= [user_info['login']])\n",
    "print(\"Most Starred Repos : \")\n",
    "print(df_top_star)"
   ]
  },
  {
   "cell_type": "code",
   "execution_count": null,
   "id": "e16cde29-d675-4ba1-8ab8-98d322a7ef67",
   "metadata": {},
   "outputs": [],
   "source": [
    "# 2. Most Forked Repo\n",
    "\n",
    "df_top_fork = pd.read_sql(\"\"\"\n",
    "    Select repo_name, forks\n",
    "    From github_repos\n",
    "    Where login = %s\n",
    "    Order By forks DESC\n",
    "    Limit 1\n",
    "\"\"\",conn, params= [user_info['login']])\n",
    "print(\"\\nMost Forked Repos : \")\n",
    "print(df_top_fork)"
   ]
  },
  {
   "cell_type": "code",
   "execution_count": null,
   "id": "eab6856b-522b-4011-a6b3-fd6e6b02a2e9",
   "metadata": {},
   "outputs": [],
   "source": [
    "# 3. Most Used Programming Languages\n",
    "\n",
    "df_lang = pd.read_sql(\"\"\"\n",
    "    Select language, count(*) as repo_count\n",
    "    From github_repos\n",
    "    Where login = %s\n",
    "    Group By language\n",
    "    Order By repo_count DESC\n",
    "\"\"\",conn, params= [user_info['login']])\n",
    "print(\"\\nMost Used Language : \")\n",
    "print(df_lang)"
   ]
  },
  {
   "cell_type": "code",
   "execution_count": null,
   "id": "8cbe2576-824a-4a99-a3a0-ea780e59b1c4",
   "metadata": {},
   "outputs": [],
   "source": [
    "# 4. Recently Updated Repos\n",
    "\n",
    "df_recent = pd.read_sql(\"\"\"\n",
    "    Select repo_name, updated_at\n",
    "    From github_repos\n",
    "    Where login = %s\n",
    "    Order By updated_at DESC\n",
    "    Limit 5\n",
    "\"\"\",conn, params= [user_info['login']])\n",
    "print(\"\\nRecently Updated Repos: \")\n",
    "print(df_recent)"
   ]
  },
  {
   "cell_type": "markdown",
   "id": "67502e3a-4a77-4fef-9c25-9c44e01aacfe",
   "metadata": {},
   "source": [
    "### Exporting to CSV"
   ]
  },
  {
   "cell_type": "code",
   "execution_count": null,
   "id": "529f2430-00dd-451a-a4f1-40fb762ad546",
   "metadata": {},
   "outputs": [],
   "source": [
    "df_top_star.to_csv(\"./data/top_starred_repo.csv\", index=False)\n",
    "df_top_fork.to_csv(\"./data/top_forked_repo.csv\", index=False)\n",
    "df_lang.to_csv(\"./data/language_stats.csv\", index=False)\n",
    "df_recent.to_csv(\"./data/recently_updated_repos.csv\", index=False)\n",
    "\n",
    "print(\"All queries has been exported into CSV in the 'data/' folder \")"
   ]
  },
  {
   "cell_type": "code",
   "execution_count": null,
   "id": "150857aa-2f8d-4eed-be5f-366743fd1c43",
   "metadata": {},
   "outputs": [],
   "source": []
  }
 ],
 "metadata": {
  "kernelspec": {
   "display_name": "Python [conda env:base] *",
   "language": "python",
   "name": "conda-base-py"
  },
  "language_info": {
   "codemirror_mode": {
    "name": "ipython",
    "version": 3
   },
   "file_extension": ".py",
   "mimetype": "text/x-python",
   "name": "python",
   "nbconvert_exporter": "python",
   "pygments_lexer": "ipython3",
   "version": "3.12.7"
  }
 },
 "nbformat": 4,
 "nbformat_minor": 5
}
