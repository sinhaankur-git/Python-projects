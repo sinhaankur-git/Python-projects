{
 "cells": [
  {
   "cell_type": "markdown",
   "id": "a5a43a36-a3dc-46fd-a473-d3bd31163433",
   "metadata": {},
   "source": [
    "## Extract API Data"
   ]
  },
  {
   "cell_type": "code",
   "execution_count": null,
   "id": "dc2e126c-4db7-4062-9538-1c0ac6bb7d21",
   "metadata": {},
   "outputs": [],
   "source": [
    "import requests\n",
    "import pandas as pd\n",
    "from datetime import datetime"
   ]
  },
  {
   "cell_type": "code",
   "execution_count": null,
   "id": "9347a310-a874-479e-bc23-8d8e958dd6a5",
   "metadata": {},
   "outputs": [],
   "source": [
    "# Your API key from OpenWeather\n",
    "\n",
    "API_KEY = \"445f4f42617f805d6b2472725addf261\"   \n",
    "BASE_URL = \"https://api.openweathermap.org/data/2.5/weather\""
   ]
  },
  {
   "cell_type": "code",
   "execution_count": null,
   "id": "f9da5738-27ac-4967-ba5b-cd429cd42b5b",
   "metadata": {},
   "outputs": [],
   "source": [
    "# List of cities to extract data for\n",
    "cities = [\"Delhi\", \"Bengaluru\", \"Hyderabad\", \"Jaipur\",  \"London\", \"New York\", \"Tokyo\", \"Sydney\"]"
   ]
  },
  {
   "cell_type": "code",
   "execution_count": null,
   "id": "22763785-affe-4a46-8de9-1fcb5aefe3d3",
   "metadata": {},
   "outputs": [],
   "source": [
    "# Store Redponses\n",
    "\n",
    "weather_data = []\n",
    "\n",
    "for city in cities:\n",
    "    params = {\n",
    "        'q': city,\n",
    "        'appid': API_KEY,\n",
    "        'units' : 'metric'\n",
    "    }\n",
    "    response = requests.get(BASE_URL, params=params)\n",
    "\n",
    "\n",
    "    if response.status_code == 200:\n",
    "        data = response.json()\n",
    "        weather_data.append({\n",
    "        'city': data['name'],\n",
    "        'temperature': data['main']['temp'],\n",
    "        'humidity': data['main']['humidity'],\n",
    "        'weather': data['weather'][0]['description'],\n",
    "        'wind_speed': data['wind']['speed'],\n",
    "        'timestamp': datetime.now()\n",
    "    })\n",
    "    else:\n",
    "        print(f'Failed to get data for {city}: {response.status_code}')\n",
    "\n",
    "# Convert to DataFrame\n",
    "df_weather = pd.DataFrame(weather_data)\n",
    "df_weather.head()"
   ]
  },
  {
   "cell_type": "code",
   "execution_count": null,
   "id": "298633a1-47b5-48e4-8ad2-287ff427ddc5",
   "metadata": {},
   "outputs": [],
   "source": [
    "#quick data check\n",
    "\n",
    "df_weather.info()\n",
    "df_weather.head()"
   ]
  },
  {
   "cell_type": "markdown",
   "id": "f7949569-fcac-4c23-bc83-6911dd79eea9",
   "metadata": {},
   "source": [
    "## Load to MySQL"
   ]
  },
  {
   "cell_type": "code",
   "execution_count": null,
   "id": "09592e17-221a-4983-958b-93b74ac22126",
   "metadata": {},
   "outputs": [],
   "source": [
    "import mysql.connector\n",
    "from mysql.connector import connect"
   ]
  },
  {
   "cell_type": "code",
   "execution_count": null,
   "id": "bed1cbf5-d5ed-410a-8c89-a4bb77c66db0",
   "metadata": {},
   "outputs": [],
   "source": [
    "# Connect to SQL\n",
    "try:\n",
    "    conn = mysql.connector.connect(\n",
    "        host = 'localhost',\n",
    "        user = 'root',\n",
    "        password = 'your password',\n",
    "        database = 'your database_name'\n",
    "    )\n",
    "\n",
    "    cursor = conn.cursor()\n",
    "    print(\"Connected to SQL\")\n",
    "except Error as e:\n",
    "    print(\"Error:\", e)"
   ]
  },
  {
   "cell_type": "code",
   "execution_count": null,
   "id": "718e2613-641f-464b-a57c-f1bb2c20f566",
   "metadata": {},
   "outputs": [],
   "source": [
    "# Create tabe if not exisits\n",
    "cursor.execute(\"\"\"\n",
    "create table if not exists weather_data(\n",
    "    id int primary key auto_increment,\n",
    "    city varchar(100),\n",
    "    temperature float,\n",
    "    humidity int,\n",
    "    weather varchar(100),\n",
    "    wind_speed float,\n",
    "    timestamp datetime\n",
    ")\n",
    "\"\"\")"
   ]
  },
  {
   "cell_type": "code",
   "execution_count": null,
   "id": "8f12616e-ffc4-44fa-9ad3-3cfcaf7d6fde",
   "metadata": {},
   "outputs": [],
   "source": [
    "# Insert Data\n",
    "\n",
    "for _, row in df_weather.iterrows():\n",
    "    cursor.execute(\"\"\"\n",
    "        insert ignore into weather_data(city, temperature, humidity, weather, wind_speed, timestamp)\n",
    "        values(%s, %s, %s, %s, %s, %s)\n",
    "    \"\"\",(\n",
    "        row['city'],\n",
    "        row['temperature'],\n",
    "        row['humidity'],\n",
    "        row['weather'],\n",
    "        row['wind_speed'],\n",
    "        row['timestamp']\n",
    "    ))\n",
    "\n",
    "conn.commit()\n",
    "cursor.close()\n",
    "conn.close()\n",
    "print(\"Weather data successfuly loaded into MYSQL database.\")"
   ]
  },
  {
   "cell_type": "markdown",
   "id": "9c933f27-4a1e-4d80-b78d-f23a2b3ab10a",
   "metadata": {},
   "source": [
    "## SQL Queries for Weather Data Analysis"
   ]
  },
  {
   "cell_type": "code",
   "execution_count": null,
   "id": "5e3dd586-f18e-48e1-a363-362b20972d2e",
   "metadata": {},
   "outputs": [],
   "source": [
    "# Reconnect to DB\n",
    "\n",
    "try:\n",
    "    conn = mysql.connector.connect(\n",
    "        host = 'localhost',\n",
    "        user = 'root',\n",
    "        password = 'your password',\n",
    "        database = 'your database_name'\n",
    "    )\n",
    "\n",
    "    cursor = conn.cursor()\n",
    "    print(\"Connected to SQL\")\n",
    "except Error as e:\n",
    "    print(\"Error:\", e)"
   ]
  },
  {
   "cell_type": "code",
   "execution_count": null,
   "id": "8d680bf7-07d7-48b3-9f5e-e3772635c2e5",
   "metadata": {},
   "outputs": [],
   "source": [
    "# Query 1: Highest temperature\n",
    "df_highest_temp = pd.read_sql(\"SELECT city, temperature FROM weather_data ORDER BY temperature DESC LIMIT 1\", conn)\n",
    "print(\"City with Highest Temperature: \")\n",
    "print(df_highest_temp)"
   ]
  },
  {
   "cell_type": "code",
   "execution_count": null,
   "id": "f12665a8-343e-4506-b469-7c7eca449805",
   "metadata": {},
   "outputs": [],
   "source": [
    "# Query 2: Average Humidity\n",
    "\n",
    "df_avg_humidity = pd.read_sql(\"SELECT AVG(humidity) AS avg_humidity FROM weather_data\", conn)\n",
    "print(\"\\nAverage Humidity: \")\n",
    "print(df_avg_humidity)"
   ]
  },
  {
   "cell_type": "code",
   "execution_count": null,
   "id": "083bf045-1ef6-49ce-b543-2c72535329f8",
   "metadata": {},
   "outputs": [],
   "source": [
    "# Query 3: Windy Cities\n",
    "\n",
    "df_windy = pd.read_sql(\"SELECT city, wind_speed FROM weather_data WHERE wind_speed > 5 ORDER BY wind_speed DESC\", conn)\n",
    "print(\"\\n Cities with Strong Winds:\")\n",
    "print(df_windy)"
   ]
  },
  {
   "cell_type": "markdown",
   "id": "80c69bcb-0aa3-4918-8fd2-b07f798daac9",
   "metadata": {},
   "source": [
    "## Combining All The Result into a Single DataFrame and Transfer into CSV"
   ]
  },
  {
   "cell_type": "code",
   "execution_count": null,
   "id": "0a3371ba-839d-46db-937a-d44bd2ed6bc4",
   "metadata": {},
   "outputs": [],
   "source": [
    "# Query 1: Highest temperature\n",
    "df_highest_temp = pd.read_sql(\"SELECT city, temperature FROM weather_data ORDER BY temperature DESC LIMIT 1\", conn)\n",
    "df_highest_temp.insert(0, 'query', 'Highest Temp')\n",
    "\n",
    "# Query 2: Average Humidity\n",
    "\n",
    "df_avg_humidity = pd.read_sql(\"SELECT AVG(humidity) AS avg_humidity FROM weather_data\", conn)\n",
    "df_avg_humidity.insert(0, 'query', 'Avg Humidity')\n",
    "\n",
    "# Query 3: Windy Cities\n",
    "\n",
    "df_windy = pd.read_sql(\"SELECT city, wind_speed FROM weather_data WHERE wind_speed > 5 ORDER BY wind_speed DESC\", conn)\n",
    "df_windy.insert(0, 'query', 'Strong Winds')\n",
    "\n",
    "# Combine all Results\n",
    "df_combined = pd.concat([df_highest_temp, df_avg_humidity, df_windy], ignore_index = True)\n",
    "\n",
    "#Save to single CSV\n",
    "df_combined.to_csv(\"weather_analysis.csv\", index = False)\n",
    "\n",
    "conn.close()\n",
    "print(\"All query result saved to 'weather_analysis.csv'\")\n"
   ]
  },
  {
   "cell_type": "code",
   "execution_count": null,
   "id": "90fb6d94-ad3d-4260-b97b-f9c434fc2cc6",
   "metadata": {},
   "outputs": [],
   "source": []
  }
 ],
 "metadata": {
  "kernelspec": {
   "display_name": "Python [conda env:base] *",
   "language": "python",
   "name": "conda-base-py"
  },
  "language_info": {
   "codemirror_mode": {
    "name": "ipython",
    "version": 3
   },
   "file_extension": ".py",
   "mimetype": "text/x-python",
   "name": "python",
   "nbconvert_exporter": "python",
   "pygments_lexer": "ipython3",
   "version": "3.12.7"
  }
 },
 "nbformat": 4,
 "nbformat_minor": 5
}
