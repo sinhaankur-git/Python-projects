{
 "cells": [
  {
   "cell_type": "markdown",
   "id": "ec900d05-ea60-456d-93a9-8123f166dbf8",
   "metadata": {},
   "source": [
    "# Exchange Rates ETL Pipeline"
   ]
  },
  {
   "cell_type": "code",
   "execution_count": null,
   "id": "5cebecce-351e-4ae4-a6ca-bfcba8399ec8",
   "metadata": {},
   "outputs": [],
   "source": [
    "import requests\n",
    "import pandas as pd\n",
    "import mysql.connector\n",
    "from mysql.connector import connect\n",
    "from datetime import datetime"
   ]
  },
  {
   "cell_type": "markdown",
   "id": "50177a46-6a44-4b4a-9698-8b1e98a83b3c",
   "metadata": {},
   "source": [
    "## Extract data from ExchangeRate.host"
   ]
  },
  {
   "cell_type": "code",
   "execution_count": null,
   "id": "137298a9-3fa0-4bd0-a5bb-136c61cb0f87",
   "metadata": {},
   "outputs": [],
   "source": [
    "base_currency = 'USD'\n",
    "url = f\"https://api.frankfurter.app/latest?from={base_currency}\"\n",
    "\n",
    "response = requests.get(url)\n",
    "data = response.json()"
   ]
  },
  {
   "cell_type": "code",
   "execution_count": null,
   "id": "6b3f596d-880b-4754-ad4b-a81ae7f5de6e",
   "metadata": {},
   "outputs": [],
   "source": [
    "#USe the APIs date \n",
    "\n",
    "timestamp = datetime.strptime(data.get('date', datetime.now().strftime(\"%Y-%m-%d\")), \"%Y-%m-%d\")\n",
    "rates = data.get('rates', {})"
   ]
  },
  {
   "cell_type": "code",
   "execution_count": null,
   "id": "ea0b1166-ae3c-4ed7-aee5-081d8977b7c0",
   "metadata": {},
   "outputs": [],
   "source": [
    "#Create DataFrame\n",
    "\n",
    "df_rates = pd.DataFrame(rates.items(), columns=[\"target_currency\", \"rate\"])\n",
    "df_rates[\"base_currency\"] = base_currency\n",
    "df_rates[\"timestamp\"] = timestamp\n",
    "\n",
    "print(\"\\nSample Extracted data : \")\n",
    "print(df_rates.head())"
   ]
  },
  {
   "cell_type": "markdown",
   "id": "16d50521-2000-4b00-ada0-12f8585d2ad5",
   "metadata": {},
   "source": [
    "## Load into MYSQL"
   ]
  },
  {
   "cell_type": "code",
   "execution_count": null,
   "id": "96773ce5-ddde-4286-9a65-fd6bdc53d289",
   "metadata": {},
   "outputs": [],
   "source": [
    "# Connect to SQL\n",
    "try:\n",
    "    conn = mysql.connector.connect(\n",
    "        host = 'localhost',\n",
    "        user = 'root',\n",
    "        password = 'your_password',\n",
    "        database = 'your_database_name'\n",
    "    )\n",
    "\n",
    "    cursor = conn.cursor()\n",
    "    print(\"Connected to SQL\")\n",
    "except Error as e:\n",
    "    print(\"Error:\", e)"
   ]
  },
  {
   "cell_type": "code",
   "execution_count": null,
   "id": "55112a3e-d23a-4779-9dc9-32a265fe0a98",
   "metadata": {},
   "outputs": [],
   "source": [
    "#Create table if not exists.\n",
    "\n",
    "cursor.execute(\"\"\"\n",
    "    create table if not exists exchange_rates(\n",
    "\tid int auto_increment primary key,\n",
    "    base_currency varchar(10),\n",
    "    target_currency varchar(10),\n",
    "    rate float,\n",
    "    timestamp datetime,\n",
    "    unique (base_currency, target_currency, timestamp)\n",
    ")\n",
    "\"\"\")"
   ]
  },
  {
   "cell_type": "code",
   "execution_count": null,
   "id": "0545c0c2-d47e-4fa5-85e9-bde79748bb76",
   "metadata": {},
   "outputs": [],
   "source": [
    "#Inserting Values in the database\n",
    "\n",
    "for _, row in df_rates.iterrows():\n",
    "    cursor.execute(\"\"\"\n",
    "        insert ignore into exchange_rates(base_currency, target_currency, rate, timestamp)\n",
    "        values(%s, %s, %s, %s)\n",
    "    \"\"\",(\n",
    "        row['base_currency'],\n",
    "        row['target_currency'],\n",
    "        row['rate'],\n",
    "        row['timestamp']\n",
    "    ))\n",
    "\n",
    "conn.commit()\n",
    "print(\"\\nData Inserted into MySQL table : exchange_rates\")"
   ]
  },
  {
   "cell_type": "markdown",
   "id": "6360aa29-ec7c-435c-853a-410cefe13159",
   "metadata": {},
   "source": [
    "## Query & Analysis"
   ]
  },
  {
   "cell_type": "code",
   "execution_count": null,
   "id": "de524e39-25d1-45eb-8da0-9b4bf0a044b4",
   "metadata": {},
   "outputs": [],
   "source": [
    "# Query 1 : Highest Exchange Rate\n",
    "\n",
    "df_highest = pd.read_sql(\"\"\"\n",
    "    Select target_currency, rate\n",
    "    From exchange_rates\n",
    "    Where base_currency = 'USD'\n",
    "    Order By rate DESC\n",
    "    Limit 10\n",
    "\"\"\",conn)\n",
    "print(\"\\n Highest Exchange Rate: \")\n",
    "print(df_highest)"
   ]
  },
  {
   "cell_type": "code",
   "execution_count": null,
   "id": "278d82bb-d674-4b15-82c4-7371ae63e5d1",
   "metadata": {},
   "outputs": [],
   "source": [
    "# Query 2 : Currencies with rate > 1\n",
    "\n",
    "df_gt1 = pd.read_sql(\"\"\"\n",
    "    Select target_currency, rate\n",
    "    From exchange_rates\n",
    "    Where base_currency = 'USD' AND rate > 1\n",
    "    Order By rate DESC\n",
    "    \n",
    "\"\"\",conn)\n",
    "print(\"\\n Exchange Rate > 1: \")\n",
    "print(df_gt1.head())"
   ]
  },
  {
   "cell_type": "code",
   "execution_count": null,
   "id": "60997df1-2e03-444d-9aa2-2130e143367f",
   "metadata": {},
   "outputs": [],
   "source": [
    " # Query 3 : Compare USD to EUR, GBP, INR, JPY\n",
    "\n",
    "df_compare = pd.read_sql(\"\"\"\n",
    "    Select target_currency, rate\n",
    "    From exchange_rates\n",
    "    Where base_currency = 'USD' AND target_currency IN ('EUR', 'GBP', 'INR', 'JPY')\n",
    "\"\"\",conn)\n",
    "\n",
    "print(\"\\n USD Compared to Major Currencies: \")\n",
    "print(df_compare)"
   ]
  },
  {
   "cell_type": "code",
   "execution_count": null,
   "id": "436ec5af-14cd-4080-8111-bf6ec55ed9df",
   "metadata": {},
   "outputs": [],
   "source": [
    "# Save Query Results\n",
    "\n",
    "output_path = \"usd_vs_major_currencies.csv\"\n",
    "df_compare.to_csv(output_path, index = False)\n",
    "print(f'\\n Comparison saved to : {output_path}')\n",
    "\n",
    "cursor.close()\n",
    "conn.close()"
   ]
  },
  {
   "cell_type": "code",
   "execution_count": null,
   "id": "148691b2-5818-47e9-b702-c97be33c5a16",
   "metadata": {},
   "outputs": [],
   "source": []
  }
 ],
 "metadata": {
  "kernelspec": {
   "display_name": "Python [conda env:base] *",
   "language": "python",
   "name": "conda-base-py"
  },
  "language_info": {
   "codemirror_mode": {
    "name": "ipython",
    "version": 3
   },
   "file_extension": ".py",
   "mimetype": "text/x-python",
   "name": "python",
   "nbconvert_exporter": "python",
   "pygments_lexer": "ipython3",
   "version": "3.12.7"
  }
 },
 "nbformat": 4,
 "nbformat_minor": 5
}
