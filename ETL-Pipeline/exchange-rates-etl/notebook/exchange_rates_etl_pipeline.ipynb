{
 "cells": [
  {
   "cell_type": "markdown",
   "id": "ec900d05-ea60-456d-93a9-8123f166dbf8",
   "metadata": {},
   "source": [
    "# Exchange Rates ETL Pipeline"
   ]
  },
  {
   "cell_type": "code",
   "execution_count": 55,
   "id": "5cebecce-351e-4ae4-a6ca-bfcba8399ec8",
   "metadata": {},
   "outputs": [],
   "source": [
    "import requests\n",
    "import pandas as pd\n",
    "import mysql.connector\n",
    "from mysql.connector import connect\n",
    "from datetime import datetime"
   ]
  },
  {
   "cell_type": "markdown",
   "id": "50177a46-6a44-4b4a-9698-8b1e98a83b3c",
   "metadata": {},
   "source": [
    "## Extract data from ExchangeRate.host"
   ]
  },
  {
   "cell_type": "code",
   "execution_count": 124,
   "id": "137298a9-3fa0-4bd0-a5bb-136c61cb0f87",
   "metadata": {},
   "outputs": [],
   "source": [
    "base_currency = 'USD'\n",
    "url = f\"https://api.frankfurter.app/latest?from={base_currency}\"\n",
    "\n",
    "response = requests.get(url)\n",
    "data = response.json()"
   ]
  },
  {
   "cell_type": "code",
   "execution_count": 126,
   "id": "6b3f596d-880b-4754-ad4b-a81ae7f5de6e",
   "metadata": {},
   "outputs": [],
   "source": [
    "#USe the APIs date \n",
    "\n",
    "timestamp = datetime.strptime(data.get('date', datetime.now().strftime(\"%Y-%m-%d\")), \"%Y-%m-%d\")\n",
    "rates = data.get('rates', {})"
   ]
  },
  {
   "cell_type": "code",
   "execution_count": 128,
   "id": "ea0b1166-ae3c-4ed7-aee5-081d8977b7c0",
   "metadata": {},
   "outputs": [
    {
     "name": "stdout",
     "output_type": "stream",
     "text": [
      "\n",
      "Sample Extracted data : \n",
      "  target_currency     rate base_currency  timestamp\n",
      "0             AUD  1.57090           USD 2025-04-17\n",
      "1             BGN  1.72170           USD 2025-04-17\n",
      "2             BRL  5.88120           USD 2025-04-17\n",
      "3             CAD  1.38850           USD 2025-04-17\n",
      "4             CHF  0.81787           USD 2025-04-17\n"
     ]
    }
   ],
   "source": [
    "#Create DataFrame\n",
    "\n",
    "df_rates = pd.DataFrame(rates.items(), columns=[\"target_currency\", \"rate\"])\n",
    "df_rates[\"base_currency\"] = base_currency\n",
    "df_rates[\"timestamp\"] = timestamp\n",
    "\n",
    "print(\"\\nSample Extracted data : \")\n",
    "print(df_rates.head())"
   ]
  },
  {
   "cell_type": "markdown",
   "id": "16d50521-2000-4b00-ada0-12f8585d2ad5",
   "metadata": {},
   "source": [
    "## Load into MYSQL"
   ]
  },
  {
   "cell_type": "code",
   "execution_count": 140,
   "id": "96773ce5-ddde-4286-9a65-fd6bdc53d289",
   "metadata": {},
   "outputs": [
    {
     "name": "stdout",
     "output_type": "stream",
     "text": [
      "Connected to SQL\n"
     ]
    }
   ],
   "source": [
    "# Connect to SQL\n",
    "try:\n",
    "    conn = mysql.connector.connect(\n",
    "        host = 'localhost',\n",
    "        user = 'root',\n",
    "        password = 'Sinha@9000',\n",
    "        database = 'exchange_rates_db'\n",
    "    )\n",
    "\n",
    "    cursor = conn.cursor()\n",
    "    print(\"Connected to SQL\")\n",
    "except Error as e:\n",
    "    print(\"Error:\", e)"
   ]
  },
  {
   "cell_type": "code",
   "execution_count": 144,
   "id": "55112a3e-d23a-4779-9dc9-32a265fe0a98",
   "metadata": {},
   "outputs": [],
   "source": [
    "#Create table if not exists.\n",
    "\n",
    "cursor.execute(\"\"\"\n",
    "    create table if not exists exchange_rates(\n",
    "\tid int auto_increment primary key,\n",
    "    base_currency varchar(10),\n",
    "    target_currency varchar(10),\n",
    "    rate float,\n",
    "    timestamp datetime,\n",
    "    unique (base_currency, target_currency, timestamp)\n",
    ")\n",
    "\"\"\")"
   ]
  },
  {
   "cell_type": "code",
   "execution_count": 146,
   "id": "0545c0c2-d47e-4fa5-85e9-bde79748bb76",
   "metadata": {},
   "outputs": [
    {
     "name": "stdout",
     "output_type": "stream",
     "text": [
      "\n",
      "Data Inserted into MySQL table : exchange_rates\n"
     ]
    }
   ],
   "source": [
    "#Inserting Values in the database\n",
    "\n",
    "for _, row in df_rates.iterrows():\n",
    "    cursor.execute(\"\"\"\n",
    "        insert ignore into exchange_rates(base_currency, target_currency, rate, timestamp)\n",
    "        values(%s, %s, %s, %s)\n",
    "    \"\"\",(\n",
    "        row['base_currency'],\n",
    "        row['target_currency'],\n",
    "        row['rate'],\n",
    "        row['timestamp']\n",
    "    ))\n",
    "\n",
    "conn.commit()\n",
    "print(\"\\nData Inserted into MySQL table : exchange_rates\")"
   ]
  },
  {
   "cell_type": "markdown",
   "id": "6360aa29-ec7c-435c-853a-410cefe13159",
   "metadata": {},
   "source": [
    "## Query & Analysis"
   ]
  },
  {
   "cell_type": "code",
   "execution_count": 153,
   "id": "de524e39-25d1-45eb-8da0-9b4bf0a044b4",
   "metadata": {},
   "outputs": [
    {
     "name": "stdout",
     "output_type": "stream",
     "text": [
      "\n",
      " Highest Exchange Rate: \n",
      "  target_currency       rate\n",
      "0             IDR  16868.000\n",
      "1             KRW   1416.480\n",
      "2             HUF    358.800\n",
      "3             JPY    142.590\n",
      "4             ISK    127.730\n",
      "5             INR     85.400\n",
      "6             PHP     56.679\n",
      "7             TRY     38.081\n",
      "8             THB     33.275\n",
      "9             CZK     22.015\n"
     ]
    },
    {
     "name": "stderr",
     "output_type": "stream",
     "text": [
      "C:\\Users\\admin\\AppData\\Local\\Temp\\ipykernel_7488\\1142949486.py:3: UserWarning: pandas only supports SQLAlchemy connectable (engine/connection) or database string URI or sqlite3 DBAPI2 connection. Other DBAPI2 objects are not tested. Please consider using SQLAlchemy.\n",
      "  df_highest = pd.read_sql(\"\"\"\n"
     ]
    }
   ],
   "source": [
    "# Query 1 : Highest Exchange Rate\n",
    "\n",
    "df_highest = pd.read_sql(\"\"\"\n",
    "    Select target_currency, rate\n",
    "    From exchange_rates\n",
    "    Where base_currency = 'USD'\n",
    "    Order By rate DESC\n",
    "    Limit 10\n",
    "\"\"\",conn)\n",
    "print(\"\\n Highest Exchange Rate: \")\n",
    "print(df_highest)"
   ]
  },
  {
   "cell_type": "code",
   "execution_count": 159,
   "id": "278d82bb-d674-4b15-82c4-7371ae63e5d1",
   "metadata": {},
   "outputs": [
    {
     "name": "stdout",
     "output_type": "stream",
     "text": [
      "\n",
      " Exchange Rate > 1: \n",
      "  target_currency      rate\n",
      "0             IDR  16868.00\n",
      "1             KRW   1416.48\n",
      "2             HUF    358.80\n",
      "3             JPY    142.59\n",
      "4             ISK    127.73\n"
     ]
    },
    {
     "name": "stderr",
     "output_type": "stream",
     "text": [
      "C:\\Users\\admin\\AppData\\Local\\Temp\\ipykernel_7488\\2780212385.py:3: UserWarning: pandas only supports SQLAlchemy connectable (engine/connection) or database string URI or sqlite3 DBAPI2 connection. Other DBAPI2 objects are not tested. Please consider using SQLAlchemy.\n",
      "  df_gt1 = pd.read_sql(\"\"\"\n"
     ]
    }
   ],
   "source": [
    "# Query 2 : Currencies with rate > 1\n",
    "\n",
    "df_gt1 = pd.read_sql(\"\"\"\n",
    "    Select target_currency, rate\n",
    "    From exchange_rates\n",
    "    Where base_currency = 'USD' AND rate > 1\n",
    "    Order By rate DESC\n",
    "    \n",
    "\"\"\",conn)\n",
    "print(\"\\n Exchange Rate > 1: \")\n",
    "print(df_gt1.head())"
   ]
  },
  {
   "cell_type": "code",
   "execution_count": 161,
   "id": "60997df1-2e03-444d-9aa2-2130e143367f",
   "metadata": {},
   "outputs": [
    {
     "name": "stdout",
     "output_type": "stream",
     "text": [
      "\n",
      " USD Compared to Major Currencies: \n",
      "  target_currency       rate\n",
      "0             EUR    0.88028\n",
      "1             GBP    0.75592\n",
      "2             INR   85.40000\n",
      "3             JPY  142.59000\n"
     ]
    },
    {
     "name": "stderr",
     "output_type": "stream",
     "text": [
      "C:\\Users\\admin\\AppData\\Local\\Temp\\ipykernel_7488\\3360551123.py:3: UserWarning: pandas only supports SQLAlchemy connectable (engine/connection) or database string URI or sqlite3 DBAPI2 connection. Other DBAPI2 objects are not tested. Please consider using SQLAlchemy.\n",
      "  df_compare = pd.read_sql(\"\"\"\n"
     ]
    }
   ],
   "source": [
    " # Query 3 : Compare USD to EUR, GBP, INR, JPY\n",
    "\n",
    "df_compare = pd.read_sql(\"\"\"\n",
    "    Select target_currency, rate\n",
    "    From exchange_rates\n",
    "    Where base_currency = 'USD' AND target_currency IN ('EUR', 'GBP', 'INR', 'JPY')\n",
    "\"\"\",conn)\n",
    "\n",
    "print(\"\\n USD Compared to Major Currencies: \")\n",
    "print(df_compare)"
   ]
  },
  {
   "cell_type": "code",
   "execution_count": 169,
   "id": "436ec5af-14cd-4080-8111-bf6ec55ed9df",
   "metadata": {},
   "outputs": [
    {
     "name": "stdout",
     "output_type": "stream",
     "text": [
      "\n",
      " Comparison saved to : usd_vs_major_currencies.csv\n"
     ]
    }
   ],
   "source": [
    "# Save Query Results\n",
    "\n",
    "output_path = \"usd_vs_major_currencies.csv\"\n",
    "df_compare.to_csv(output_path, index = False)\n",
    "print(f'\\n Comparison saved to : {output_path}')\n",
    "\n",
    "cursor.close()\n",
    "conn.close()"
   ]
  },
  {
   "cell_type": "code",
   "execution_count": null,
   "id": "148691b2-5818-47e9-b702-c97be33c5a16",
   "metadata": {},
   "outputs": [],
   "source": []
  }
 ],
 "metadata": {
  "kernelspec": {
   "display_name": "Python [conda env:base] *",
   "language": "python",
   "name": "conda-base-py"
  },
  "language_info": {
   "codemirror_mode": {
    "name": "ipython",
    "version": 3
   },
   "file_extension": ".py",
   "mimetype": "text/x-python",
   "name": "python",
   "nbconvert_exporter": "python",
   "pygments_lexer": "ipython3",
   "version": "3.12.7"
  }
 },
 "nbformat": 4,
 "nbformat_minor": 5
}
