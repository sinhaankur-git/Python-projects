{
 "cells": [
  {
   "cell_type": "markdown",
   "id": "4d5692cb-50b0-4316-856d-ee56a1e21046",
   "metadata": {},
   "source": [
    "## Parsing Logs and Storing them in DataFrame"
   ]
  },
  {
   "cell_type": "code",
   "execution_count": null,
   "id": "8becb982-4f0f-482a-8b51-62b83b1e8c01",
   "metadata": {},
   "outputs": [],
   "source": [
    "import re\n",
    "import pandas as pd"
   ]
  },
  {
   "cell_type": "code",
   "execution_count": null,
   "id": "6875d321-c034-4206-8337-69eb1152fe5b",
   "metadata": {},
   "outputs": [],
   "source": [
    "# Load the log file\n",
    "\n",
    "log_file_path = './logs/sample_webserver.log'"
   ]
  },
  {
   "cell_type": "code",
   "execution_count": null,
   "id": "7fac8986-7d8c-40f5-8774-f98e597691ec",
   "metadata": {},
   "outputs": [],
   "source": [
    "#Define the log pattern using regex\n",
    "\n",
    "log_pattern = re.compile(\n",
    "    r'(?P<ip>\\d+\\.\\d+\\.\\d+\\.\\d+)\\s-\\s-\\s'\n",
    "    r'\\[(?P<timestamp>.+?)\\]\\s'\n",
    "    r'\"(?P<method>\\w+)\\s(?P<resource>/\\S*)\\s(?P<protocol>HTTP/\\d\\.\\d)\"\\s'\n",
    "    r'(?P<status>\\d+)\\s(?P<size>\\d+)'\n",
    ")"
   ]
  },
  {
   "cell_type": "code",
   "execution_count": null,
   "id": "040cad0f-dd81-4a8b-95c3-9f6e25e145d2",
   "metadata": {},
   "outputs": [],
   "source": [
    "#store parsed logs\n",
    "logs=[]"
   ]
  },
  {
   "cell_type": "code",
   "execution_count": null,
   "id": "c73ba14b-c1b3-44f2-ba1a-ac5e56590829",
   "metadata": {},
   "outputs": [],
   "source": [
    "#Read parse each line\n",
    "with open (log_file_path, 'r') as file:\n",
    "    for line in file:\n",
    "        match = log_pattern.match(line)\n",
    "        if match:\n",
    "            logs.append(match.groupdict())"
   ]
  },
  {
   "cell_type": "code",
   "execution_count": null,
   "id": "f3ca6c45-e0ad-4cec-ab07-a92bae5a75c2",
   "metadata": {},
   "outputs": [],
   "source": [
    "#Create Dataframe\n",
    "df_logs = pd.DataFrame(logs)"
   ]
  },
  {
   "cell_type": "code",
   "execution_count": null,
   "id": "6e5ba593-3c25-477a-a6c5-dabfb6e10ad7",
   "metadata": {},
   "outputs": [],
   "source": [
    "# Convert timestamp into datetime\n",
    "df_logs[\"timestamp\"] = pd.to_datetime(df_logs[\"timestamp\"].str.strip(), format=\"%d/%b/%Y:%H:%M:%S\")"
   ]
  },
  {
   "cell_type": "code",
   "execution_count": 214,
   "id": "077ca35c-42ea-47d4-a9cd-14b4b2ab0bbe",
   "metadata": {},
   "outputs": [
    {
     "data": {
      "text/html": [
       "<div>\n",
       "<style scoped>\n",
       "    .dataframe tbody tr th:only-of-type {\n",
       "        vertical-align: middle;\n",
       "    }\n",
       "\n",
       "    .dataframe tbody tr th {\n",
       "        vertical-align: top;\n",
       "    }\n",
       "\n",
       "    .dataframe thead th {\n",
       "        text-align: right;\n",
       "    }\n",
       "</style>\n",
       "<table border=\"1\" class=\"dataframe\">\n",
       "  <thead>\n",
       "    <tr style=\"text-align: right;\">\n",
       "      <th></th>\n",
       "      <th>ip</th>\n",
       "      <th>timestamp</th>\n",
       "      <th>method</th>\n",
       "      <th>url</th>\n",
       "      <th>protocol</th>\n",
       "      <th>status</th>\n",
       "      <th>size</th>\n",
       "    </tr>\n",
       "  </thead>\n",
       "  <tbody>\n",
       "    <tr>\n",
       "      <th>0</th>\n",
       "      <td>192.196.136.116</td>\n",
       "      <td>2025-04-15 09:49:05</td>\n",
       "      <td>PUT</td>\n",
       "      <td>/contact</td>\n",
       "      <td>HTTP/1.0</td>\n",
       "      <td>400</td>\n",
       "      <td>2535</td>\n",
       "    </tr>\n",
       "    <tr>\n",
       "      <th>1</th>\n",
       "      <td>170.132.19.142</td>\n",
       "      <td>2025-04-15 10:54:52</td>\n",
       "      <td>GET</td>\n",
       "      <td>/register</td>\n",
       "      <td>HTTP/1.0</td>\n",
       "      <td>200</td>\n",
       "      <td>1612</td>\n",
       "    </tr>\n",
       "    <tr>\n",
       "      <th>2</th>\n",
       "      <td>219.134.218.234</td>\n",
       "      <td>2025-04-16 05:57:40</td>\n",
       "      <td>GET</td>\n",
       "      <td>/index.html</td>\n",
       "      <td>HTTP/2.0</td>\n",
       "      <td>503</td>\n",
       "      <td>4713</td>\n",
       "    </tr>\n",
       "    <tr>\n",
       "      <th>3</th>\n",
       "      <td>204.82.65.81</td>\n",
       "      <td>2025-04-15 14:52:33</td>\n",
       "      <td>POST</td>\n",
       "      <td>/about</td>\n",
       "      <td>HTTP/1.1</td>\n",
       "      <td>500</td>\n",
       "      <td>871</td>\n",
       "    </tr>\n",
       "    <tr>\n",
       "      <th>4</th>\n",
       "      <td>119.223.252.231</td>\n",
       "      <td>2025-04-15 16:59:49</td>\n",
       "      <td>DELETE</td>\n",
       "      <td>/products</td>\n",
       "      <td>HTTP/2.0</td>\n",
       "      <td>301</td>\n",
       "      <td>4930</td>\n",
       "    </tr>\n",
       "  </tbody>\n",
       "</table>\n",
       "</div>"
      ],
      "text/plain": [
       "                ip           timestamp  method          url  protocol  status  \\\n",
       "0  192.196.136.116 2025-04-15 09:49:05     PUT     /contact  HTTP/1.0     400   \n",
       "1   170.132.19.142 2025-04-15 10:54:52     GET    /register  HTTP/1.0     200   \n",
       "2  219.134.218.234 2025-04-16 05:57:40     GET  /index.html  HTTP/2.0     503   \n",
       "3     204.82.65.81 2025-04-15 14:52:33    POST       /about  HTTP/1.1     500   \n",
       "4  119.223.252.231 2025-04-15 16:59:49  DELETE    /products  HTTP/2.0     301   \n",
       "\n",
       "   size  \n",
       "0  2535  \n",
       "1  1612  \n",
       "2  4713  \n",
       "3   871  \n",
       "4  4930  "
      ]
     },
     "execution_count": 214,
     "metadata": {},
     "output_type": "execute_result"
    }
   ],
   "source": [
    "# Convert numeric fields and rename column:\n",
    "\n",
    "df_logs['status'] = df_logs['status'].astype(int)\n",
    "df_logs['size'] = df_logs['size'].astype(int)\n",
    "\n",
    "df_logs.rename(columns={ 'resource' : 'url'}, inplace= True )\n",
    "\n",
    "df_logs.head()"
   ]
  },
  {
   "cell_type": "code",
   "execution_count": 216,
   "id": "67298f0f-1286-4988-a9f9-4f0727d90f94",
   "metadata": {},
   "outputs": [
    {
     "name": "stdout",
     "output_type": "stream",
     "text": [
      "Missing value: \n",
      "ip           0\n",
      "timestamp    0\n",
      "method       0\n",
      "url          0\n",
      "protocol     0\n",
      "status       0\n",
      "size         0\n",
      "dtype: int64\n"
     ]
    }
   ],
   "source": [
    "#Check for Null or Missing value\n",
    "\n",
    "print(\"Missing value: \")\n",
    "print(df_logs.isnull().sum())"
   ]
  },
  {
   "cell_type": "code",
   "execution_count": 220,
   "id": "fe765dc8-22c3-4508-814f-7c94ad318674",
   "metadata": {},
   "outputs": [
    {
     "data": {
      "text/html": [
       "<div>\n",
       "<style scoped>\n",
       "    .dataframe tbody tr th:only-of-type {\n",
       "        vertical-align: middle;\n",
       "    }\n",
       "\n",
       "    .dataframe tbody tr th {\n",
       "        vertical-align: top;\n",
       "    }\n",
       "\n",
       "    .dataframe thead th {\n",
       "        text-align: right;\n",
       "    }\n",
       "</style>\n",
       "<table border=\"1\" class=\"dataframe\">\n",
       "  <thead>\n",
       "    <tr style=\"text-align: right;\">\n",
       "      <th></th>\n",
       "      <th>ip</th>\n",
       "      <th>timestamp</th>\n",
       "      <th>method</th>\n",
       "      <th>url</th>\n",
       "      <th>protocol</th>\n",
       "      <th>status</th>\n",
       "      <th>size</th>\n",
       "    </tr>\n",
       "  </thead>\n",
       "  <tbody>\n",
       "    <tr>\n",
       "      <th>0</th>\n",
       "      <td>192.196.136.116</td>\n",
       "      <td>2025-04-15 09:49:05</td>\n",
       "      <td>PUT</td>\n",
       "      <td>/contact</td>\n",
       "      <td>HTTP/1.0</td>\n",
       "      <td>400</td>\n",
       "      <td>2535</td>\n",
       "    </tr>\n",
       "    <tr>\n",
       "      <th>1</th>\n",
       "      <td>170.132.19.142</td>\n",
       "      <td>2025-04-15 10:54:52</td>\n",
       "      <td>GET</td>\n",
       "      <td>/register</td>\n",
       "      <td>HTTP/1.0</td>\n",
       "      <td>200</td>\n",
       "      <td>1612</td>\n",
       "    </tr>\n",
       "    <tr>\n",
       "      <th>2</th>\n",
       "      <td>219.134.218.234</td>\n",
       "      <td>2025-04-16 05:57:40</td>\n",
       "      <td>GET</td>\n",
       "      <td>/index.html</td>\n",
       "      <td>HTTP/2.0</td>\n",
       "      <td>503</td>\n",
       "      <td>4713</td>\n",
       "    </tr>\n",
       "    <tr>\n",
       "      <th>3</th>\n",
       "      <td>204.82.65.81</td>\n",
       "      <td>2025-04-15 14:52:33</td>\n",
       "      <td>POST</td>\n",
       "      <td>/about</td>\n",
       "      <td>HTTP/1.1</td>\n",
       "      <td>500</td>\n",
       "      <td>871</td>\n",
       "    </tr>\n",
       "    <tr>\n",
       "      <th>4</th>\n",
       "      <td>119.223.252.231</td>\n",
       "      <td>2025-04-15 16:59:49</td>\n",
       "      <td>DELETE</td>\n",
       "      <td>/products</td>\n",
       "      <td>HTTP/2.0</td>\n",
       "      <td>301</td>\n",
       "      <td>4930</td>\n",
       "    </tr>\n",
       "  </tbody>\n",
       "</table>\n",
       "</div>"
      ],
      "text/plain": [
       "                ip           timestamp  method          url  protocol  status  \\\n",
       "0  192.196.136.116 2025-04-15 09:49:05     PUT     /contact  HTTP/1.0     400   \n",
       "1   170.132.19.142 2025-04-15 10:54:52     GET    /register  HTTP/1.0     200   \n",
       "2  219.134.218.234 2025-04-16 05:57:40     GET  /index.html  HTTP/2.0     503   \n",
       "3     204.82.65.81 2025-04-15 14:52:33    POST       /about  HTTP/1.1     500   \n",
       "4  119.223.252.231 2025-04-15 16:59:49  DELETE    /products  HTTP/2.0     301   \n",
       "\n",
       "   size  \n",
       "0  2535  \n",
       "1  1612  \n",
       "2  4713  \n",
       "3   871  \n",
       "4  4930  "
      ]
     },
     "execution_count": 220,
     "metadata": {},
     "output_type": "execute_result"
    }
   ],
   "source": [
    "# Data Overview\n",
    "df_logs.head()"
   ]
  },
  {
   "cell_type": "code",
   "execution_count": 222,
   "id": "4ae3227c-f605-4403-a681-1e7f98d4c63f",
   "metadata": {},
   "outputs": [
    {
     "data": {
      "text/html": [
       "<div>\n",
       "<style scoped>\n",
       "    .dataframe tbody tr th:only-of-type {\n",
       "        vertical-align: middle;\n",
       "    }\n",
       "\n",
       "    .dataframe tbody tr th {\n",
       "        vertical-align: top;\n",
       "    }\n",
       "\n",
       "    .dataframe thead th {\n",
       "        text-align: right;\n",
       "    }\n",
       "</style>\n",
       "<table border=\"1\" class=\"dataframe\">\n",
       "  <thead>\n",
       "    <tr style=\"text-align: right;\">\n",
       "      <th></th>\n",
       "      <th>ip</th>\n",
       "      <th>timestamp</th>\n",
       "      <th>method</th>\n",
       "      <th>url</th>\n",
       "      <th>protocol</th>\n",
       "      <th>status</th>\n",
       "      <th>size</th>\n",
       "    </tr>\n",
       "  </thead>\n",
       "  <tbody>\n",
       "    <tr>\n",
       "      <th>count</th>\n",
       "      <td>500</td>\n",
       "      <td>500</td>\n",
       "      <td>500</td>\n",
       "      <td>500</td>\n",
       "      <td>500</td>\n",
       "      <td>500.000000</td>\n",
       "      <td>500.000000</td>\n",
       "    </tr>\n",
       "    <tr>\n",
       "      <th>unique</th>\n",
       "      <td>500</td>\n",
       "      <td>NaN</td>\n",
       "      <td>4</td>\n",
       "      <td>7</td>\n",
       "      <td>3</td>\n",
       "      <td>NaN</td>\n",
       "      <td>NaN</td>\n",
       "    </tr>\n",
       "    <tr>\n",
       "      <th>top</th>\n",
       "      <td>192.196.136.116</td>\n",
       "      <td>NaN</td>\n",
       "      <td>PUT</td>\n",
       "      <td>/api/data</td>\n",
       "      <td>HTTP/1.0</td>\n",
       "      <td>NaN</td>\n",
       "      <td>NaN</td>\n",
       "    </tr>\n",
       "    <tr>\n",
       "      <th>freq</th>\n",
       "      <td>1</td>\n",
       "      <td>NaN</td>\n",
       "      <td>140</td>\n",
       "      <td>76</td>\n",
       "      <td>179</td>\n",
       "      <td>NaN</td>\n",
       "      <td>NaN</td>\n",
       "    </tr>\n",
       "    <tr>\n",
       "      <th>mean</th>\n",
       "      <td>NaN</td>\n",
       "      <td>2025-04-15 20:19:30.030000128</td>\n",
       "      <td>NaN</td>\n",
       "      <td>NaN</td>\n",
       "      <td>NaN</td>\n",
       "      <td>396.704000</td>\n",
       "      <td>2566.874000</td>\n",
       "    </tr>\n",
       "    <tr>\n",
       "      <th>min</th>\n",
       "      <td>NaN</td>\n",
       "      <td>2025-04-15 06:21:59</td>\n",
       "      <td>NaN</td>\n",
       "      <td>NaN</td>\n",
       "      <td>NaN</td>\n",
       "      <td>200.000000</td>\n",
       "      <td>208.000000</td>\n",
       "    </tr>\n",
       "    <tr>\n",
       "      <th>25%</th>\n",
       "      <td>NaN</td>\n",
       "      <td>2025-04-15 13:48:02.500000</td>\n",
       "      <td>NaN</td>\n",
       "      <td>NaN</td>\n",
       "      <td>NaN</td>\n",
       "      <td>302.000000</td>\n",
       "      <td>1468.250000</td>\n",
       "    </tr>\n",
       "    <tr>\n",
       "      <th>50%</th>\n",
       "      <td>NaN</td>\n",
       "      <td>2025-04-15 20:28:33.500000</td>\n",
       "      <td>NaN</td>\n",
       "      <td>NaN</td>\n",
       "      <td>NaN</td>\n",
       "      <td>403.000000</td>\n",
       "      <td>2561.000000</td>\n",
       "    </tr>\n",
       "    <tr>\n",
       "      <th>75%</th>\n",
       "      <td>NaN</td>\n",
       "      <td>2025-04-16 03:05:46.750000128</td>\n",
       "      <td>NaN</td>\n",
       "      <td>NaN</td>\n",
       "      <td>NaN</td>\n",
       "      <td>500.000000</td>\n",
       "      <td>3693.750000</td>\n",
       "    </tr>\n",
       "    <tr>\n",
       "      <th>max</th>\n",
       "      <td>NaN</td>\n",
       "      <td>2025-04-16 10:06:47</td>\n",
       "      <td>NaN</td>\n",
       "      <td>NaN</td>\n",
       "      <td>NaN</td>\n",
       "      <td>503.000000</td>\n",
       "      <td>4986.000000</td>\n",
       "    </tr>\n",
       "    <tr>\n",
       "      <th>std</th>\n",
       "      <td>NaN</td>\n",
       "      <td>NaN</td>\n",
       "      <td>NaN</td>\n",
       "      <td>NaN</td>\n",
       "      <td>NaN</td>\n",
       "      <td>91.659978</td>\n",
       "      <td>1347.847928</td>\n",
       "    </tr>\n",
       "  </tbody>\n",
       "</table>\n",
       "</div>"
      ],
      "text/plain": [
       "                     ip                      timestamp method        url  \\\n",
       "count               500                            500    500        500   \n",
       "unique              500                            NaN      4          7   \n",
       "top     192.196.136.116                            NaN    PUT  /api/data   \n",
       "freq                  1                            NaN    140         76   \n",
       "mean                NaN  2025-04-15 20:19:30.030000128    NaN        NaN   \n",
       "min                 NaN            2025-04-15 06:21:59    NaN        NaN   \n",
       "25%                 NaN     2025-04-15 13:48:02.500000    NaN        NaN   \n",
       "50%                 NaN     2025-04-15 20:28:33.500000    NaN        NaN   \n",
       "75%                 NaN  2025-04-16 03:05:46.750000128    NaN        NaN   \n",
       "max                 NaN            2025-04-16 10:06:47    NaN        NaN   \n",
       "std                 NaN                            NaN    NaN        NaN   \n",
       "\n",
       "        protocol      status         size  \n",
       "count        500  500.000000   500.000000  \n",
       "unique         3         NaN          NaN  \n",
       "top     HTTP/1.0         NaN          NaN  \n",
       "freq         179         NaN          NaN  \n",
       "mean         NaN  396.704000  2566.874000  \n",
       "min          NaN  200.000000   208.000000  \n",
       "25%          NaN  302.000000  1468.250000  \n",
       "50%          NaN  403.000000  2561.000000  \n",
       "75%          NaN  500.000000  3693.750000  \n",
       "max          NaN  503.000000  4986.000000  \n",
       "std          NaN   91.659978  1347.847928  "
      ]
     },
     "execution_count": 222,
     "metadata": {},
     "output_type": "execute_result"
    }
   ],
   "source": [
    "#Summary Stats\n",
    "df_logs.describe(include=\"all\")"
   ]
  },
  {
   "cell_type": "code",
   "execution_count": 224,
   "id": "a6213670-3909-43f6-96b9-2038a027b971",
   "metadata": {},
   "outputs": [
    {
     "data": {
      "text/plain": [
       "ip                   object\n",
       "timestamp    datetime64[ns]\n",
       "method               object\n",
       "url                  object\n",
       "protocol             object\n",
       "status                int32\n",
       "size                  int32\n",
       "dtype: object"
      ]
     },
     "execution_count": 224,
     "metadata": {},
     "output_type": "execute_result"
    }
   ],
   "source": [
    "#data types\n",
    "df_logs.dtypes"
   ]
  },
  {
   "cell_type": "code",
   "execution_count": 236,
   "id": "86323b40-02ca-4b49-ba0a-d42837511e3e",
   "metadata": {},
   "outputs": [
    {
     "name": "stdout",
     "output_type": "stream",
     "text": [
      "Parsed data saved to 'parsed_log.csv'\n"
     ]
    }
   ],
   "source": [
    "#save the parsed log data to csv\n",
    "df_logs.to_csv(\"parsed_log.csv\", index = True)\n",
    "print(\"Parsed data saved to 'parsed_log.csv'\")"
   ]
  },
  {
   "cell_type": "markdown",
   "id": "b6137f3a-a1d4-4ab4-aa1a-fbb535274a39",
   "metadata": {},
   "source": [
    "## Log Data Cleaning & Exploration"
   ]
  },
  {
   "cell_type": "code",
   "execution_count": 268,
   "id": "e57d3fb1-b7a9-4cba-96f9-d141b42e0833",
   "metadata": {},
   "outputs": [],
   "source": [
    "import matplotlib\n",
    "from matplotlib import pyplot as plt"
   ]
  },
  {
   "cell_type": "code",
   "execution_count": 266,
   "id": "23be1bc4-8c26-4bcf-b9b9-ba9d318f1771",
   "metadata": {},
   "outputs": [
    {
     "data": {
      "text/html": [
       "<div>\n",
       "<style scoped>\n",
       "    .dataframe tbody tr th:only-of-type {\n",
       "        vertical-align: middle;\n",
       "    }\n",
       "\n",
       "    .dataframe tbody tr th {\n",
       "        vertical-align: top;\n",
       "    }\n",
       "\n",
       "    .dataframe thead th {\n",
       "        text-align: right;\n",
       "    }\n",
       "</style>\n",
       "<table border=\"1\" class=\"dataframe\">\n",
       "  <thead>\n",
       "    <tr style=\"text-align: right;\">\n",
       "      <th></th>\n",
       "      <th>Unnamed: 0</th>\n",
       "      <th>ip</th>\n",
       "      <th>timestamp</th>\n",
       "      <th>method</th>\n",
       "      <th>url</th>\n",
       "      <th>protocol</th>\n",
       "      <th>status</th>\n",
       "      <th>size</th>\n",
       "    </tr>\n",
       "  </thead>\n",
       "  <tbody>\n",
       "    <tr>\n",
       "      <th>0</th>\n",
       "      <td>0</td>\n",
       "      <td>192.196.136.116</td>\n",
       "      <td>2025-04-15 09:49:05</td>\n",
       "      <td>PUT</td>\n",
       "      <td>/contact</td>\n",
       "      <td>HTTP/1.0</td>\n",
       "      <td>400</td>\n",
       "      <td>2535</td>\n",
       "    </tr>\n",
       "    <tr>\n",
       "      <th>1</th>\n",
       "      <td>1</td>\n",
       "      <td>170.132.19.142</td>\n",
       "      <td>2025-04-15 10:54:52</td>\n",
       "      <td>GET</td>\n",
       "      <td>/register</td>\n",
       "      <td>HTTP/1.0</td>\n",
       "      <td>200</td>\n",
       "      <td>1612</td>\n",
       "    </tr>\n",
       "    <tr>\n",
       "      <th>2</th>\n",
       "      <td>2</td>\n",
       "      <td>219.134.218.234</td>\n",
       "      <td>2025-04-16 05:57:40</td>\n",
       "      <td>GET</td>\n",
       "      <td>/index.html</td>\n",
       "      <td>HTTP/2.0</td>\n",
       "      <td>503</td>\n",
       "      <td>4713</td>\n",
       "    </tr>\n",
       "    <tr>\n",
       "      <th>3</th>\n",
       "      <td>3</td>\n",
       "      <td>204.82.65.81</td>\n",
       "      <td>2025-04-15 14:52:33</td>\n",
       "      <td>POST</td>\n",
       "      <td>/about</td>\n",
       "      <td>HTTP/1.1</td>\n",
       "      <td>500</td>\n",
       "      <td>871</td>\n",
       "    </tr>\n",
       "    <tr>\n",
       "      <th>4</th>\n",
       "      <td>4</td>\n",
       "      <td>119.223.252.231</td>\n",
       "      <td>2025-04-15 16:59:49</td>\n",
       "      <td>DELETE</td>\n",
       "      <td>/products</td>\n",
       "      <td>HTTP/2.0</td>\n",
       "      <td>301</td>\n",
       "      <td>4930</td>\n",
       "    </tr>\n",
       "  </tbody>\n",
       "</table>\n",
       "</div>"
      ],
      "text/plain": [
       "   Unnamed: 0               ip            timestamp  method          url  \\\n",
       "0           0  192.196.136.116  2025-04-15 09:49:05     PUT     /contact   \n",
       "1           1   170.132.19.142  2025-04-15 10:54:52     GET    /register   \n",
       "2           2  219.134.218.234  2025-04-16 05:57:40     GET  /index.html   \n",
       "3           3     204.82.65.81  2025-04-15 14:52:33    POST       /about   \n",
       "4           4  119.223.252.231  2025-04-15 16:59:49  DELETE    /products   \n",
       "\n",
       "   protocol  status  size  \n",
       "0  HTTP/1.0     400  2535  \n",
       "1  HTTP/1.0     200  1612  \n",
       "2  HTTP/2.0     503  4713  \n",
       "3  HTTP/1.1     500   871  \n",
       "4  HTTP/2.0     301  4930  "
      ]
     },
     "execution_count": 266,
     "metadata": {},
     "output_type": "execute_result"
    }
   ],
   "source": [
    "#Load the cleaned structured log file\n",
    "log_path = \"./logs/parsed_log.csv\"\n",
    "\n",
    "df_logs1 = pd.read_csv(log_path)\n",
    "df_logs1.head()"
   ]
  },
  {
   "cell_type": "code",
   "execution_count": 270,
   "id": "327badfa-88d5-4692-921c-cd813278d4a1",
   "metadata": {},
   "outputs": [],
   "source": [
    "# 1. Strip trailing spaces from timestamp & converting it into datetime\n",
    "\n",
    "if df_logs1['timestamp'].dtype == 'object':\n",
    "    df_logs1['timestamp'] = df_logs1['timestamp'].str.strip()\n",
    "\n",
    "# convertion into datetime\n",
    "try:\n",
    "   df_logs1['timestamp'] = pd.to_datetime(df_logs1['timestamp'])\n",
    "except Exception as e:\n",
    "    print(\"Datetime parsing failed: \", e)\n"
   ]
  },
  {
   "cell_type": "code",
   "execution_count": 256,
   "id": "e9f53292-ef79-4b55-8a2b-6c029b369b06",
   "metadata": {},
   "outputs": [
    {
     "name": "stdout",
     "output_type": "stream",
     "text": [
      "\n",
      " Missing values per column: \n",
      "Unnamed: 0    0\n",
      "ip            0\n",
      "timestamp     0\n",
      "method        0\n",
      "url           0\n",
      "protocol      0\n",
      "status        0\n",
      "size          0\n",
      "dtype: int64\n"
     ]
    }
   ],
   "source": [
    "#Check for missing values\n",
    "print(\"\\n Missing values per column: \")\n",
    "print(df_logs1.isnull().sum())"
   ]
  },
  {
   "cell_type": "code",
   "execution_count": 258,
   "id": "29eec6eb-08e3-42bc-aeae-6394e512df1c",
   "metadata": {},
   "outputs": [],
   "source": [
    "# Drop rows with essential missing data\n",
    "essential_col = ['ip','timestamp','method','url','status']\n",
    "df_logs1.dropna(subset= essential_col, inplace = True)"
   ]
  },
  {
   "cell_type": "code",
   "execution_count": 260,
   "id": "edddcae9-63ac-4b64-a209-a5b12995d15f",
   "metadata": {},
   "outputs": [
    {
     "name": "stdout",
     "output_type": "stream",
     "text": [
      "\n",
      " Top 10 IPs request count : \n",
      "ip\n",
      "192.196.136.116    1\n",
      "139.106.129.99     1\n",
      "169.23.119.146     1\n",
      "173.100.12.34      1\n",
      "49.252.199.212     1\n",
      "168.234.37.232     1\n",
      "136.253.244.68     1\n",
      "81.215.107.184     1\n",
      "179.216.196.78     1\n",
      "50.154.20.220      1\n",
      "Name: count, dtype: int64\n",
      "\n",
      " Top 10 IPs requested Url : \n",
      "url\n",
      "/api/data      76\n",
      "/about         75\n",
      "/products      74\n",
      "/contact       72\n",
      "/register      70\n",
      "/index.html    70\n",
      "/login         63\n",
      "Name: count, dtype: int64\n",
      "\n",
      " HTTP Status code Distribution : \n",
      "status\n",
      "503    62\n",
      "403    55\n",
      "404    55\n",
      "400    53\n",
      "302    52\n",
      "Name: count, dtype: int64\n"
     ]
    }
   ],
   "source": [
    "# Basic exploration\n",
    "print(\"\\n Top 10 IPs request count : \")\n",
    "print(df_logs1['ip'].value_counts().head(10))\n",
    "\n",
    "print(\"\\n Top 10 IPs requested Url : \")\n",
    "print(df_logs1['url'].value_counts().head(10))\n",
    "\n",
    "print(\"\\n HTTP Status code Distribution : \")\n",
    "print(df_logs1['status'].value_counts().head())\n"
   ]
  },
  {
   "cell_type": "code",
   "execution_count": 156,
   "id": "bc7ccf76-6675-45c1-a5b8-315db047bbbd",
   "metadata": {},
   "outputs": [
    {
     "name": "stderr",
     "output_type": "stream",
     "text": [
      "C:\\Users\\admin\\AppData\\Local\\Temp\\ipykernel_460\\3949307793.py:4: FutureWarning: 'H' is deprecated and will be removed in a future version, please use 'h' instead.\n",
      "  df_logs1.set_index('timestamp').resample('H').size().plot()\n"
     ]
    },
    {
     "data": {
      "image/png": "[encoded data removed]",
      "text/plain": [
       "<Figure size 1200x500 with 1 Axes>"
      ]
     },
     "metadata": {},
     "output_type": "display_data"
    }
   ],
   "source": [
    "# Requests per hour visualization\n",
    "\n",
    "plt.figure(figsize=(12,5))\n",
    "df_logs1.set_index('timestamp').resample('H').size().plot()\n",
    "plt.title(\"Request Per Hour\")\n",
    "plt.xlabel(\"Hour\")\n",
    "plt.ylabel(\"Number of Request\")\n",
    "plt.tight_layout()\n",
    "plt.grid()\n",
    "plt.show()"
   ]
  },
  {
   "cell_type": "markdown",
   "id": "35f1727f-e18e-437d-bfb8-c9ced2a8567c",
   "metadata": {},
   "source": [
    "## Data Transformation and Analysis"
   ]
  },
  {
   "cell_type": "code",
   "execution_count": 282,
   "id": "43bd2295-6f31-4b16-979b-80978ef9b59a",
   "metadata": {},
   "outputs": [
    {
     "name": "stdout",
     "output_type": "stream",
     "text": [
      "\n",
      "Top 10 Successful URLs:\n",
      "url\n",
      "/api/data      11\n",
      "/products       8\n",
      "/about          6\n",
      "/login          5\n",
      "/register       4\n",
      "/index.html     4\n",
      "/contact        4\n",
      "Name: count, dtype: int64\n",
      "\n",
      "Top 10 IPs by Request Count:\n",
      "ip\n",
      "192.196.136.116    1\n",
      "139.106.129.99     1\n",
      "169.23.119.146     1\n",
      "173.100.12.34      1\n",
      "49.252.199.212     1\n",
      "168.234.37.232     1\n",
      "136.253.244.68     1\n",
      "81.215.107.184     1\n",
      "179.216.196.78     1\n",
      "50.154.20.220      1\n",
      "Name: count, dtype: int64\n",
      "\n",
      " Requests Per Day: \n",
      "timestamp\n",
      "2025-04-15    329\n",
      "2025-04-16    171\n",
      "Freq: D, dtype: int64\n"
     ]
    }
   ],
   "source": [
    "#Filter only succesfull requests (HTTP 200)\n",
    "df_success = df_logs1[df_logs1['status']== 200]\n",
    "\n",
    "#Top URL accessed\n",
    "top_url = df_success['url'].value_counts().head(10)\n",
    "print(\"\\nTop 10 Successful URLs:\")\n",
    "print(top_url)\n",
    "\n",
    "#Top IPs by Request Count\n",
    "top_ip = df_logs1['ip'].value_counts().head(10)\n",
    "print(\"\\nTop 10 IPs by Request Count:\")\n",
    "print(top_ip)\n",
    "\n",
    "#Requests per day\n",
    "req_per_day = df_logs1.set_index('timestamp').resample('D').size()\n",
    "print('\\n Requests Per Day: ')\n",
    "print(req_per_day)"
   ]
  },
  {
   "cell_type": "code",
   "execution_count": 274,
   "id": "b5c38f61-eeeb-4fe2-a11b-88fb9bb96660",
   "metadata": {},
   "outputs": [
    {
     "data": {
      "text/html": [
       "<div>\n",
       "<style scoped>\n",
       "    .dataframe tbody tr th:only-of-type {\n",
       "        vertical-align: middle;\n",
       "    }\n",
       "\n",
       "    .dataframe tbody tr th {\n",
       "        vertical-align: top;\n",
       "    }\n",
       "\n",
       "    .dataframe thead th {\n",
       "        text-align: right;\n",
       "    }\n",
       "</style>\n",
       "<table border=\"1\" class=\"dataframe\">\n",
       "  <thead>\n",
       "    <tr style=\"text-align: right;\">\n",
       "      <th></th>\n",
       "      <th>Unnamed: 0</th>\n",
       "      <th>ip</th>\n",
       "      <th>timestamp</th>\n",
       "      <th>method</th>\n",
       "      <th>url</th>\n",
       "      <th>protocol</th>\n",
       "      <th>status</th>\n",
       "      <th>size</th>\n",
       "    </tr>\n",
       "  </thead>\n",
       "  <tbody>\n",
       "    <tr>\n",
       "      <th>1</th>\n",
       "      <td>1</td>\n",
       "      <td>170.132.19.142</td>\n",
       "      <td>2025-04-15 10:54:52</td>\n",
       "      <td>GET</td>\n",
       "      <td>/register</td>\n",
       "      <td>HTTP/1.0</td>\n",
       "      <td>200</td>\n",
       "      <td>1612</td>\n",
       "    </tr>\n",
       "    <tr>\n",
       "      <th>5</th>\n",
       "      <td>5</td>\n",
       "      <td>52.215.56.50</td>\n",
       "      <td>2025-04-16 09:31:10</td>\n",
       "      <td>GET</td>\n",
       "      <td>/index.html</td>\n",
       "      <td>HTTP/1.0</td>\n",
       "      <td>200</td>\n",
       "      <td>2506</td>\n",
       "    </tr>\n",
       "    <tr>\n",
       "      <th>15</th>\n",
       "      <td>15</td>\n",
       "      <td>41.179.122.1</td>\n",
       "      <td>2025-04-15 20:46:45</td>\n",
       "      <td>DELETE</td>\n",
       "      <td>/api/data</td>\n",
       "      <td>HTTP/1.0</td>\n",
       "      <td>200</td>\n",
       "      <td>2284</td>\n",
       "    </tr>\n",
       "    <tr>\n",
       "      <th>25</th>\n",
       "      <td>25</td>\n",
       "      <td>196.197.101.25</td>\n",
       "      <td>2025-04-15 10:34:38</td>\n",
       "      <td>GET</td>\n",
       "      <td>/about</td>\n",
       "      <td>HTTP/2.0</td>\n",
       "      <td>200</td>\n",
       "      <td>1527</td>\n",
       "    </tr>\n",
       "    <tr>\n",
       "      <th>39</th>\n",
       "      <td>39</td>\n",
       "      <td>128.4.43.116</td>\n",
       "      <td>2025-04-15 08:44:39</td>\n",
       "      <td>GET</td>\n",
       "      <td>/index.html</td>\n",
       "      <td>HTTP/2.0</td>\n",
       "      <td>200</td>\n",
       "      <td>4584</td>\n",
       "    </tr>\n",
       "  </tbody>\n",
       "</table>\n",
       "</div>"
      ],
      "text/plain": [
       "    Unnamed: 0              ip           timestamp  method          url  \\\n",
       "1            1  170.132.19.142 2025-04-15 10:54:52     GET    /register   \n",
       "5            5    52.215.56.50 2025-04-16 09:31:10     GET  /index.html   \n",
       "15          15    41.179.122.1 2025-04-15 20:46:45  DELETE    /api/data   \n",
       "25          25  196.197.101.25 2025-04-15 10:34:38     GET       /about   \n",
       "39          39    128.4.43.116 2025-04-15 08:44:39     GET  /index.html   \n",
       "\n",
       "    protocol  status  size  \n",
       "1   HTTP/1.0     200  1612  \n",
       "5   HTTP/1.0     200  2506  \n",
       "15  HTTP/1.0     200  2284  \n",
       "25  HTTP/2.0     200  1527  \n",
       "39  HTTP/2.0     200  4584  "
      ]
     },
     "execution_count": 274,
     "metadata": {},
     "output_type": "execute_result"
    }
   ],
   "source": [
    "df_success.head()"
   ]
  },
  {
   "cell_type": "code",
   "execution_count": 314,
   "id": "98fca979-eb47-40f8-afd5-84cf3541c017",
   "metadata": {},
   "outputs": [
    {
     "data": {
      "image/png": "[encoded data removed]",
      "text/plain": [
       "<Figure size 1200x500 with 1 Axes>"
      ]
     },
     "metadata": {},
     "output_type": "display_data"
    },
    {
     "data": {
      "image/png": "[encoded data removed]",
      "text/plain": [
       "<Figure size 1200x500 with 1 Axes>"
      ]
     },
     "metadata": {},
     "output_type": "display_data"
    }
   ],
   "source": [
    "# Viualization requests per day\n",
    "plt.figure(figsize=(12,5))\n",
    "req_per_day.plot(kind ='bar')\n",
    "plt.title(\"Request Per Day\")\n",
    "plt.xlabel(\"Date\")\n",
    "plt.xticks(rotation = 0)\n",
    "plt.ylabel(\"Number of Requests\")\n",
    "plt.tight_layout()\n",
    "plt.grid(True)\n",
    "plt.show()\n",
    "\n",
    "\n",
    "# HTTP Status code Distribution Visualization\n",
    "\n",
    "plt.figure(figsize=(12,5))\n",
    "df_logs1['status'].value_counts().plot(kind= 'bar', color = 'skyblue')\n",
    "plt.title(\"HTTP Status Code Distribution\")\n",
    "plt.xlabel(\"Status Code\")\n",
    "plt.xticks(rotation = 0)\n",
    "plt.ylabel(\"Frequency\")\n",
    "plt.tight_layout()\n",
    "plt.grid(True)\n",
    "plt.show()"
   ]
  },
  {
   "cell_type": "markdown",
   "id": "be2866f8-69a7-4582-8b87-0b1f1def2592",
   "metadata": {},
   "source": [
    "## Log Aggregation and Reporting"
   ]
  },
  {
   "cell_type": "code",
   "execution_count": 326,
   "id": "5dffdf87-290e-4e67-b365-bb9a7ee552d3",
   "metadata": {},
   "outputs": [
    {
     "name": "stdout",
     "output_type": "stream",
     "text": [
      "\n",
      " Summary: \n",
      "            total_requests  successful_requests  failed_requests  \\\n",
      "date                                                               \n",
      "2025-04-15             329                   89              240   \n",
      "2025-04-16             171                   48              123   \n",
      "\n",
      "            success_rate (%)  \n",
      "date                          \n",
      "2025-04-15             27.05  \n",
      "2025-04-16             28.07  \n"
     ]
    }
   ],
   "source": [
    "# 1. Daily summary of requests and errors\n",
    "\n",
    "df_logs1['date'] = df_logs1['timestamp'].dt.date\n",
    "\n",
    "daily_summary = df_logs1.groupby('date').agg(\n",
    "    total_requests=('ip', 'count'),\n",
    "    successful_requests= ('status', lambda x: (x<400).sum()),\n",
    "    failed_requests=('status', lambda x: (x>=400).sum())\n",
    ")\n",
    "daily_summary['success_rate (%)'] = round((daily_summary['successful_requests'] / daily_summary['total_requests']) * 100,2)\n",
    "print(\"\\n Summary: \")\n",
    "print(daily_summary.head())"
   ]
  },
  {
   "cell_type": "code",
   "execution_count": 328,
   "id": "811690af-4fa3-4286-b057-30a50ca0f187",
   "metadata": {},
   "outputs": [
    {
     "name": "stdout",
     "output_type": "stream",
     "text": [
      "\n",
      " Top IPs Causing Errors: \n",
      "ip\n",
      "192.196.136.116    1\n",
      "169.23.119.146     1\n",
      "136.253.244.68     1\n",
      "81.215.107.184     1\n",
      "179.216.196.78     1\n",
      "129.101.157.57     1\n",
      "19.181.49.158      1\n",
      "175.109.150.250    1\n",
      "139.106.129.99     1\n",
      "108.95.101.55      1\n",
      "Name: count, dtype: int64\n"
     ]
    }
   ],
   "source": [
    "#2. Top IP with Most Errors (4xx or 5xx)\n",
    "\n",
    "error_ips = df_logs1[df_logs1['status'] >= 400]\n",
    "top_error_ips= error_ips['ip'].value_counts().head(10)\n",
    "print('\\n Top IPs Causing Errors: ')\n",
    "print(top_error_ips)"
   ]
  },
  {
   "cell_type": "code",
   "execution_count": 334,
   "id": "064ac653-2997-42e0-82bd-b64c25cdf18e",
   "metadata": {},
   "outputs": [
    {
     "name": "stdout",
     "output_type": "stream",
     "text": [
      "\n",
      " Average Requests per IP :  1.00\n"
     ]
    }
   ],
   "source": [
    "#3. Average Requests per IP\n",
    "\n",
    "avg_req_per_ip = df_logs1['ip'].value_counts().mean()\n",
    "print(f'\\n Average Requests per IP : {avg_req_per_ip: .2f}')"
   ]
  },
  {
   "cell_type": "code",
   "execution_count": 338,
   "id": "91bab809-13a9-4a4e-95e9-1a376859076b",
   "metadata": {},
   "outputs": [
    {
     "name": "stdout",
     "output_type": "stream",
     "text": [
      "\n",
      " Daily summary saved to 'dail_log.csv'\n"
     ]
    }
   ],
   "source": [
    "# 4. Save Aggregated Summary to CSV\n",
    "\n",
    "daily_summary.to_csv('daily_log_summary.csv')\n",
    "print(\"\\n Daily summary saved to 'dail_log.csv'\")"
   ]
  },
  {
   "cell_type": "markdown",
   "id": "f164efbe-9249-455b-a298-cf16461d74f4",
   "metadata": {},
   "source": [
    "## Insights and Conclusion"
   ]
  },
  {
   "cell_type": "code",
   "execution_count": 353,
   "id": "d805ca26-7f7b-4373-b633-bcb1154d0755",
   "metadata": {},
   "outputs": [
    {
     "name": "stdout",
     "output_type": "stream",
     "text": [
      "Most Requested URLs: \n",
      "url\n",
      "/api/data    76\n",
      "/about       75\n",
      "/products    74\n",
      "/contact     72\n",
      "/register    70\n",
      "Name: count, dtype: int64\n"
     ]
    }
   ],
   "source": [
    "#1. Most Requested URLs\n",
    "\n",
    "print(\"Most Requested URLs: \")\n",
    "print(df_logs1['url'].value_counts().head(5))"
   ]
  },
  {
   "cell_type": "code",
   "execution_count": 355,
   "id": "80000aa1-38da-4900-bd5b-6139b90a2043",
   "metadata": {},
   "outputs": [
    {
     "name": "stdout",
     "output_type": "stream",
     "text": [
      "\n",
      "Most Active IPs: \n",
      "ip\n",
      "192.196.136.116    1\n",
      "139.106.129.99     1\n",
      "169.23.119.146     1\n",
      "173.100.12.34      1\n",
      "49.252.199.212     1\n",
      "Name: count, dtype: int64\n"
     ]
    }
   ],
   "source": [
    "#2. Most Active IPs\n",
    "\n",
    "print(\"\\nMost Active IPs: \")\n",
    "print(df_logs1['ip'].value_counts().head(5))"
   ]
  },
  {
   "cell_type": "code",
   "execution_count": 365,
   "id": "f5381ecb-9f6d-497e-b4b2-4b753db2ae4d",
   "metadata": {},
   "outputs": [
    {
     "name": "stdout",
     "output_type": "stream",
     "text": [
      "Most Common Errors: \n",
      "status\n",
      "503    62\n",
      "403    55\n",
      "404    55\n",
      "400    53\n",
      "500    48\n",
      "401    46\n",
      "502    44\n",
      "Name: count, dtype: int64\n"
     ]
    }
   ],
   "source": [
    "# 3. Most Common Errors\n",
    "\n",
    "error = df_logs1[df_logs1['status']>=400]\n",
    "print(\"Most Common Errors: \")\n",
    "print(error['status'].value_counts())"
   ]
  },
  {
   "cell_type": "code",
   "execution_count": 371,
   "id": "210f063d-ed54-4a5b-9cc0-9f4d3419c393",
   "metadata": {},
   "outputs": [
    {
     "data": {
      "image/png": "[encoded data removed]",
      "text/plain": [
       "<Figure size 1000x500 with 1 Axes>"
      ]
     },
     "metadata": {},
     "output_type": "display_data"
    }
   ],
   "source": [
    "#4. Traffic Trend Summary\n",
    "\n",
    "request_per_day = df_logs1.groupby(\"date\")[\"ip\"].count()\n",
    "plt.figure(figsize=(10,5))\n",
    "request_per_day.plot(marker = 'o')\n",
    "plt.title(\"Daily Request Volume\")\n",
    "plt.xlabel(\"Date\")\n",
    "plt.ylabel(\"Request\")\n",
    "plt.grid(True)\n",
    "plt.tight_layout()\n",
    "plt.show()"
   ]
  },
  {
   "cell_type": "code",
   "execution_count": 379,
   "id": "354c5ce3-ca8c-45ad-b4c9-af62b74609ab",
   "metadata": {},
   "outputs": [
    {
     "name": "stdout",
     "output_type": "stream",
     "text": [
      "\n",
      "Conclusion: \n",
      "- The most visited pages include index, products, and login.\n",
      "- The system is handling most successful requests, but some 404 and 500 error exists.\n",
      "- Traffic is relatively steady with some peak days.\n"
     ]
    }
   ],
   "source": [
    "#5. Summary Content\n",
    "\n",
    "print (\"\\nConclusion: \")\n",
    "print (\"- The most visited pages include index, products, and login.\")\n",
    "print (\"- The system is handling most successful requests, but some 404 and 500 error exists.\")\n",
    "print (\"- Traffic is relatively steady with some peak days.\")\n"
   ]
  }
 ],
 "metadata": {
  "kernelspec": {
   "display_name": "Python [conda env:base] *",
   "language": "python",
   "name": "conda-base-py"
  },
  "language_info": {
   "codemirror_mode": {
    "name": "ipython",
    "version": 3
   },
   "file_extension": ".py",
   "mimetype": "text/x-python",
   "name": "python",
   "nbconvert_exporter": "python",
   "pygments_lexer": "ipython3",
   "version": "3.12.7"
  }
 },
 "nbformat": 4,
 "nbformat_minor": 5
}
